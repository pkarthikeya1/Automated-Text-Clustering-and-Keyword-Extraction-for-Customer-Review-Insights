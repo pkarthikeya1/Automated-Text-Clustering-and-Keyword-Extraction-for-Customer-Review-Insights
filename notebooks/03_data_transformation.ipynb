{
 "cells": [
  {
   "cell_type": "code",
   "execution_count": 1,
   "metadata": {},
   "outputs": [
    {
     "data": {
      "text/plain": [
       "'c:\\\\Users\\\\karthikeya\\\\New_Delhi_Reviews\\\\notebooks'"
      ]
     },
     "execution_count": 1,
     "metadata": {},
     "output_type": "execute_result"
    }
   ],
   "source": [
    "import os\n",
    "%pwd"
   ]
  },
  {
   "cell_type": "code",
   "execution_count": null,
   "metadata": {},
   "outputs": [],
   "source": []
  },
  {
   "cell_type": "code",
   "execution_count": 2,
   "metadata": {},
   "outputs": [
    {
     "data": {
      "text/plain": [
       "'c:\\\\Users\\\\karthikeya\\\\New_Delhi_Reviews'"
      ]
     },
     "execution_count": 2,
     "metadata": {},
     "output_type": "execute_result"
    }
   ],
   "source": [
    "os.chdir(\"..\")\n",
    "%pwd"
   ]
  },
  {
   "cell_type": "code",
   "execution_count": 3,
   "metadata": {},
   "outputs": [],
   "source": []
  },
  {
   "cell_type": "code",
   "execution_count": 3,
   "metadata": {},
   "outputs": [],
   "source": [
    "from pathlib import Path\n",
    "from dataclasses import dataclass\n",
    "import joblib as jl\n",
    "import regex as re\n",
    "import string\n",
    "\n",
    "\n",
    "import pandas as pd\n",
    "import numpy as np\n",
    "from sklearn.compose import ColumnTransformer\n",
    "from sklearn.compose import make_column_selector as selector\n",
    "from sklearn.base import TransformerMixin, BaseEstimator\n",
    "from sklearn.pipeline import Pipeline\n",
    "from sklearn.preprocessing import StandardScaler\n",
    "from sklearn.impute import SimpleImputer\n",
    "\n",
    "from nltk.corpus import stopwords\n",
    "from nltk.stem import WordNetLemmatizer\n",
    "from gensim.models import KeyedVectors\n",
    "\n",
    "\n",
    "from src.logger import logger\n",
    "from src.components.data_ingestion import DataIngestionConfig, DataIngestion\n",
    "from src.constants import num_columns, text_columns\n",
    "\n",
    "@dataclass\n",
    "class DataTransformationConfig:\n",
    "    preprocessor_obj_file :str = os.path.join(\"artifacts\", \"preprocessor.joblib\")\n",
    "\n",
    "\n",
    "@dataclass\n",
    "class DataColumns:\n",
    "    Numerical_Columns = num_columns\n",
    "    Text_Columns = text_columns\n"
   ]
  },
  {
   "cell_type": "code",
   "execution_count": 32,
   "metadata": {},
   "outputs": [],
   "source": [
    "df = pd.read_csv(DataIngestionConfig.train_data_path)\n",
    "df.dropna(inplace=True)\n",
    "stop_words = set(stopwords.words('english'))"
   ]
  },
  {
   "cell_type": "code",
   "execution_count": 33,
   "metadata": {},
   "outputs": [
    {
     "data": {
      "text/plain": [
       "0         [third, fourth, visit, restaurant, past, year,...\n",
       "1         [well, well, birthday, party, wanted, make, bi...\n",
       "2         [located, bang, opposite, pvr, plaza, outlet, ...\n",
       "3         [came, eat, late, lunch, group, , good, time, ...\n",
       "4         [leather, sofas, colonial, feeling, add, charm...\n",
       "                                ...                        \n",
       "103301    [heritage, zaika, nice, place, enjoy, good, fo...\n",
       "103302    [hard, locate, , good, taste, , good, menu, , ...\n",
       "103303    [want, finger, licious, south, indian, cuisine...\n",
       "103304    [great, breakfast, huge, range, careals, fruit...\n",
       "103305    [, italian, dishes, big, chill, amazing, varie...\n",
       "Name: review_full, Length: 103304, dtype: object"
      ]
     },
     "execution_count": 33,
     "metadata": {},
     "output_type": "execute_result"
    }
   ],
   "source": [
    "pattern = re.compile(r'[^a-zA-Z]+')\n",
    "\n",
    "df['review_full']=df['review_full'].apply(lambda x : x.lower())\n",
    "df['review_full'] = df['review_full'].apply(lambda x: x.split())\n",
    "# Precompile the regular expression\n",
    "# df['review_full'] = df['review_full'].apply(lambda x : [re.sub(r'[^a-zA-Z0-9]', ' ', word) for word in x])\n",
    "\n",
    "df['review_full'] = df['review_full'].apply(lambda x: [pattern.sub('', word) for word in x])\n",
    "# df['review_full']=df['review_full'].apply(lambda x: [pttrn.sub('', word) for word in x])\n",
    "df['review_full'] = df['review_full'].apply(lambda x : [word for word in x if not word in stop_words])\n",
    "df['review_full']"
   ]
  },
  {
   "cell_type": "code",
   "execution_count": 17,
   "metadata": {},
   "outputs": [
    {
     "ename": "AttributeError",
     "evalue": "'int' object has no attribute 'endswith'",
     "output_type": "error",
     "traceback": [
      "\u001b[1;31m---------------------------------------------------------------------------\u001b[0m",
      "\u001b[1;31mAttributeError\u001b[0m                            Traceback (most recent call last)",
      "Cell \u001b[1;32mIn[17], line 2\u001b[0m\n\u001b[0;32m      1\u001b[0m lemm \u001b[38;5;241m=\u001b[39m WordNetLemmatizer()\n\u001b[1;32m----> 2\u001b[0m \u001b[43mlemm\u001b[49m\u001b[38;5;241;43m.\u001b[39;49m\u001b[43mlemmatize\u001b[49m\u001b[43m(\u001b[49m\u001b[38;5;241;43m400\u001b[39;49m\u001b[43m)\u001b[49m\n",
      "File \u001b[1;32mc:\\Users\\karthikeya\\New_Delhi_Reviews\\venv\\lib\\site-packages\\nltk\\stem\\wordnet.py:85\u001b[0m, in \u001b[0;36mWordNetLemmatizer.lemmatize\u001b[1;34m(self, word, pos)\u001b[0m\n\u001b[0;32m     60\u001b[0m \u001b[38;5;28;01mdef\u001b[39;00m \u001b[38;5;21mlemmatize\u001b[39m(\u001b[38;5;28mself\u001b[39m, word: \u001b[38;5;28mstr\u001b[39m, pos: \u001b[38;5;28mstr\u001b[39m \u001b[38;5;241m=\u001b[39m \u001b[38;5;124m\"\u001b[39m\u001b[38;5;124mn\u001b[39m\u001b[38;5;124m\"\u001b[39m) \u001b[38;5;241m-\u001b[39m\u001b[38;5;241m>\u001b[39m \u001b[38;5;28mstr\u001b[39m:\n\u001b[0;32m     61\u001b[0m \u001b[38;5;250m    \u001b[39m\u001b[38;5;124;03m\"\"\"Lemmatize `word` by picking the shortest of the possible lemmas,\u001b[39;00m\n\u001b[0;32m     62\u001b[0m \u001b[38;5;124;03m    using the wordnet corpus reader's built-in _morphy function.\u001b[39;00m\n\u001b[0;32m     63\u001b[0m \u001b[38;5;124;03m    Returns the input word unchanged if it cannot be found in WordNet.\u001b[39;00m\n\u001b[1;32m   (...)\u001b[0m\n\u001b[0;32m     83\u001b[0m \u001b[38;5;124;03m    :return: The shortest lemma of `word`, for the given `pos`.\u001b[39;00m\n\u001b[0;32m     84\u001b[0m \u001b[38;5;124;03m    \"\"\"\u001b[39;00m\n\u001b[1;32m---> 85\u001b[0m     lemmas \u001b[38;5;241m=\u001b[39m \u001b[38;5;28;43mself\u001b[39;49m\u001b[38;5;241;43m.\u001b[39;49m\u001b[43m_morphy\u001b[49m\u001b[43m(\u001b[49m\u001b[43mword\u001b[49m\u001b[43m,\u001b[49m\u001b[43m \u001b[49m\u001b[43mpos\u001b[49m\u001b[43m)\u001b[49m\n\u001b[0;32m     86\u001b[0m     \u001b[38;5;28;01mreturn\u001b[39;00m \u001b[38;5;28mmin\u001b[39m(lemmas, key\u001b[38;5;241m=\u001b[39m\u001b[38;5;28mlen\u001b[39m) \u001b[38;5;28;01mif\u001b[39;00m lemmas \u001b[38;5;28;01melse\u001b[39;00m word\n",
      "File \u001b[1;32mc:\\Users\\karthikeya\\New_Delhi_Reviews\\venv\\lib\\site-packages\\nltk\\stem\\wordnet.py:41\u001b[0m, in \u001b[0;36mWordNetLemmatizer._morphy\u001b[1;34m(self, form, pos, check_exceptions)\u001b[0m\n\u001b[0;32m     31\u001b[0m \u001b[38;5;250m\u001b[39m\u001b[38;5;124;03m\"\"\"\u001b[39;00m\n\u001b[0;32m     32\u001b[0m \u001b[38;5;124;03m_morphy() is WordNet's _morphy lemmatizer.\u001b[39;00m\n\u001b[0;32m     33\u001b[0m \u001b[38;5;124;03mIt returns a list of all lemmas found in WordNet.\u001b[39;00m\n\u001b[1;32m   (...)\u001b[0m\n\u001b[0;32m     37\u001b[0m \u001b[38;5;124;03m['us', 'u']\u001b[39;00m\n\u001b[0;32m     38\u001b[0m \u001b[38;5;124;03m\"\"\"\u001b[39;00m\n\u001b[0;32m     39\u001b[0m \u001b[38;5;28;01mfrom\u001b[39;00m \u001b[38;5;21;01mnltk\u001b[39;00m\u001b[38;5;21;01m.\u001b[39;00m\u001b[38;5;21;01mcorpus\u001b[39;00m \u001b[38;5;28;01mimport\u001b[39;00m wordnet \u001b[38;5;28;01mas\u001b[39;00m wn\n\u001b[1;32m---> 41\u001b[0m \u001b[38;5;28;01mreturn\u001b[39;00m \u001b[43mwn\u001b[49m\u001b[38;5;241;43m.\u001b[39;49m\u001b[43m_morphy\u001b[49m\u001b[43m(\u001b[49m\u001b[43mform\u001b[49m\u001b[43m,\u001b[49m\u001b[43m \u001b[49m\u001b[43mpos\u001b[49m\u001b[43m,\u001b[49m\u001b[43m \u001b[49m\u001b[43mcheck_exceptions\u001b[49m\u001b[43m)\u001b[49m\n",
      "File \u001b[1;32mc:\\Users\\karthikeya\\New_Delhi_Reviews\\venv\\lib\\site-packages\\nltk\\corpus\\reader\\wordnet.py:2106\u001b[0m, in \u001b[0;36mWordNetCorpusReader._morphy\u001b[1;34m(self, form, pos, check_exceptions)\u001b[0m\n\u001b[0;32m   2103\u001b[0m     forms \u001b[38;5;241m=\u001b[39m exceptions[form]\n\u001b[0;32m   2104\u001b[0m \u001b[38;5;28;01melse\u001b[39;00m:\n\u001b[0;32m   2105\u001b[0m     \u001b[38;5;66;03m# 1. Apply rules once to the input to get y1, y2, y3, etc.\u001b[39;00m\n\u001b[1;32m-> 2106\u001b[0m     forms \u001b[38;5;241m=\u001b[39m \u001b[43mapply_rules\u001b[49m\u001b[43m(\u001b[49m\u001b[43m[\u001b[49m\u001b[43mform\u001b[49m\u001b[43m]\u001b[49m\u001b[43m)\u001b[49m\n\u001b[0;32m   2108\u001b[0m \u001b[38;5;66;03m# 2. Return all that are in the database (and check the original too)\u001b[39;00m\n\u001b[0;32m   2109\u001b[0m \u001b[38;5;28;01mreturn\u001b[39;00m filter_forms([form] \u001b[38;5;241m+\u001b[39m forms)\n",
      "File \u001b[1;32mc:\\Users\\karthikeya\\New_Delhi_Reviews\\venv\\lib\\site-packages\\nltk\\corpus\\reader\\wordnet.py:2083\u001b[0m, in \u001b[0;36mWordNetCorpusReader._morphy.<locals>.apply_rules\u001b[1;34m(forms)\u001b[0m\n\u001b[0;32m   2082\u001b[0m \u001b[38;5;28;01mdef\u001b[39;00m \u001b[38;5;21mapply_rules\u001b[39m(forms):\n\u001b[1;32m-> 2083\u001b[0m     \u001b[38;5;28;01mreturn\u001b[39;00m [\n\u001b[0;32m   2084\u001b[0m         form[: \u001b[38;5;241m-\u001b[39m\u001b[38;5;28mlen\u001b[39m(old)] \u001b[38;5;241m+\u001b[39m new\n\u001b[0;32m   2085\u001b[0m         \u001b[38;5;28;01mfor\u001b[39;00m form \u001b[38;5;129;01min\u001b[39;00m forms\n\u001b[0;32m   2086\u001b[0m         \u001b[38;5;28;01mfor\u001b[39;00m old, new \u001b[38;5;129;01min\u001b[39;00m substitutions\n\u001b[0;32m   2087\u001b[0m         \u001b[38;5;28;01mif\u001b[39;00m form\u001b[38;5;241m.\u001b[39mendswith(old)\n\u001b[0;32m   2088\u001b[0m     ]\n",
      "File \u001b[1;32mc:\\Users\\karthikeya\\New_Delhi_Reviews\\venv\\lib\\site-packages\\nltk\\corpus\\reader\\wordnet.py:2087\u001b[0m, in \u001b[0;36m<listcomp>\u001b[1;34m(.0)\u001b[0m\n\u001b[0;32m   2082\u001b[0m \u001b[38;5;28;01mdef\u001b[39;00m \u001b[38;5;21mapply_rules\u001b[39m(forms):\n\u001b[0;32m   2083\u001b[0m     \u001b[38;5;28;01mreturn\u001b[39;00m [\n\u001b[0;32m   2084\u001b[0m         form[: \u001b[38;5;241m-\u001b[39m\u001b[38;5;28mlen\u001b[39m(old)] \u001b[38;5;241m+\u001b[39m new\n\u001b[0;32m   2085\u001b[0m         \u001b[38;5;28;01mfor\u001b[39;00m form \u001b[38;5;129;01min\u001b[39;00m forms\n\u001b[0;32m   2086\u001b[0m         \u001b[38;5;28;01mfor\u001b[39;00m old, new \u001b[38;5;129;01min\u001b[39;00m substitutions\n\u001b[1;32m-> 2087\u001b[0m         \u001b[38;5;28;01mif\u001b[39;00m \u001b[43mform\u001b[49m\u001b[38;5;241;43m.\u001b[39;49m\u001b[43mendswith\u001b[49m(old)\n\u001b[0;32m   2088\u001b[0m     ]\n",
      "\u001b[1;31mAttributeError\u001b[0m: 'int' object has no attribute 'endswith'"
     ]
    }
   ],
   "source": [
    "cleaned_text = re.sub(r'[0-9]+', '', text)\n"
   ]
  },
  {
   "cell_type": "code",
   "execution_count": 4,
   "metadata": {},
   "outputs": [],
   "source": [
    "class remove_stop_words(TransformerMixin, BaseEstimator):\n",
    "\n",
    "    def __init__(self):\n",
    "        \n",
    "        try:\n",
    "            logger.info(\"getting set of stopwords from NLTK from English language\")\n",
    "            self.stop_words = set(stopwords.words('english'))\n",
    "            pass\n",
    "        except Exception as e:\n",
    "            logger.info(f\"Error loading set of stopwords from NLTK library: {e}\")\n",
    "            raise e\n",
    "        \n",
    "\n",
    "    def fit(self, X):\n",
    "        return self\n",
    "\n",
    "\n",
    "    def transform(self, X):\n",
    "        self.X_ = X.copy()\n",
    "        try:\n",
    "            logger.info(f\"Transforming all the letters into lowercase\")\n",
    "            self.X_ = self.X_.apply(lambda x: x.str.lower())\n",
    "            logger.info(f\"Transforming all letters into lowercase is successful\")\n",
    "\n",
    "            logger.info(f\"Splitting the sentences into words (Tokenization)\")\n",
    "            self.X_ = self.X_.apply(lambda x: x.str.split())\n",
    "            logger.info(f\"Splitting the sentences into words is successful (Tokenization)\")\n",
    "\n",
    "            pattern = re.compile(r'[^a-zA-Z\\s]+')  # Allow spaces\n",
    "            logger.info(f\"Removing punctuations from text\")\n",
    "            self.X_ = self.X_.map(lambda x: [pattern.sub('', word) for word in x])\n",
    "            logger.info(f\"Removing punctuations from text successful\")\n",
    "\n",
    "\n",
    "            logger.info(f\"Removing the stopwords from the tokenized words\")\n",
    "            self.X_ = self.X_.map(lambda x: [word for word in x if not word in self.stop_words ])\n",
    "            logger.info(f\"Removing the stopwords from the tokenized words is successful\")\n",
    "        except Exception as e:\n",
    "            logger.info(f\"Error in pre-processing the text: {e}\")\n",
    "            raise e\n",
    "        \n",
    "        return self.X_\n",
    "\n",
    "\n",
    "class lemmatization(TransformerMixin, BaseEstimator):\n",
    "\n",
    "    def __init__ (self):\n",
    "        try:\n",
    "            logger.info(f\"WordNetLemmatizer from NLTK library is instantiated\")\n",
    "            self.lemmatizer = WordNetLemmatizer()\n",
    "            pass\n",
    "        except Exception as e:\n",
    "            logger.info(f\"Error initiating the lemmatizer from NLTK library: {e}\")\n",
    "            raise e\n",
    "        \n",
    "    \n",
    "    def fit(self, X):\n",
    "        return self\n",
    "    \n",
    "    def transform(self, X):\n",
    "        self.X_ = X.copy()\n",
    "        try:\n",
    "            logger.info(f\"Initiating the lemmatization of the remaining words after stopword removal\")\n",
    "            self.X_ = self.X_.map(lambda x: [self.lemmatizer.lemmatize(word) for word in x])\n",
    "            logger.info(f\"Lemmatization successful\")\n",
    "        except Exception as e:\n",
    "            logger.info(f\"Error in lemmatization: {e}\")\n",
    "            raise e\n",
    "        return self.X_\n",
    "    \n",
    "class make_embeddings(TransformerMixin, BaseEstimator):\n",
    "\n",
    "    def __init__(self):\n",
    "        try:\n",
    "            logger.info(\"Loading Gensim Word2Vec model for embedding generation\")\n",
    "            self.word2vec = KeyedVectors.load_word2vec_format(\"ft_reviews_vectors.bin\", binary=True)  # Update path as needed\n",
    "            pass\n",
    "        except Exception as e:\n",
    "            logger.info(f\"Error loading Gensim Word2Vec model: {e}\")\n",
    "            raise e\n",
    "\n",
    "    def fit(self, X):\n",
    "\n",
    "        return self\n",
    "\n",
    "    def transform(self, X):\n",
    "        self.X_ = X.copy()\n",
    "        try:\n",
    "            logger.info(\"Generating embeddings for the text data\")\n",
    "            \n",
    "            # Compute embeddings using Gensim's get_mean_vector method\n",
    "            embeddings = self.X_.map(lambda words: self.word2vec.get_mean_vector(words, ignore_missing=True))\n",
    "\n",
    "            logger.info(\"Successfully generated embeddings\")\n",
    "            return embeddings\n",
    "        except Exception as e:\n",
    "            logger.error(f\"Error during transformation: {e}\")\n",
    "            raise e"
   ]
  },
  {
   "cell_type": "code",
   "execution_count": 11,
   "metadata": {},
   "outputs": [],
   "source": [
    "class DataTransformation(TransformerMixin, BaseEstimator):\n",
    "\n",
    "    def __init__ (self):\n",
    "        try:\n",
    "            logger.info(f\"Initiating the DataTransformation\")\n",
    "            self.data_transformation_config = DataTransformationConfig()\n",
    "            self.data_columns = DataColumns()\n",
    "            pass\n",
    "        \n",
    "        except Exception as e:\n",
    "            logger.info(f\"Error initiating the DataTransformation : {e}\")\n",
    "            raise e\n",
    "        \n",
    "\n",
    "    def get_transformer_object(self):\n",
    "        try:\n",
    "            num_pipeline = Pipeline([\n",
    "                (\"imputer\", SimpleImputer(strategy=\"median\")),\n",
    "                (\"scaler\", StandardScaler())\n",
    "                ]\n",
    "            )\n",
    "\n",
    "            text_pipeline = Pipeline([\n",
    "                (\"clean and preprocess\", remove_stop_words()),\n",
    "                (\"lemmatize the words\", lemmatization()),\n",
    "                (\"Create Embeddings\", make_embeddings())\n",
    "            ])\n",
    "            \n",
    "            logger.info(\"Numerical and text pipelines created\")\n",
    "            \n",
    "            preprocessor = ColumnTransformer([\n",
    "                (\"Numerical_Pipeline\", num_pipeline, self.data_columns.Numerical_Columns),\n",
    "                (\"Text_Pipeline\", text_pipeline, self.data_columns.Text_Columns)\n",
    "            ])\n",
    "\n",
    "            return preprocessor  \n",
    "        except Exception as e:\n",
    "            raise e\n",
    "    \n",
    "    def initiate_data_transformation(self, train_data_path, test_data_path):\n",
    "\n",
    "        try:\n",
    "            logger.info(f\"Initiatig data transformation pipeline\")\n",
    "            train_data = pd.read_csv(train_data_path)\n",
    "            test_data = pd.read_csv(test_data_path)\n",
    "            train_data.dropna(inplace=True, axis=0)\n",
    "            test_data.dropna(inplace=True, axis=0)\n",
    "            \n",
    "\n",
    "\n",
    "            preprocessing_obj = self.get_transformer_object()\n",
    "            input_feature_arr = preprocessing_obj.fit_transform(train_data)\n",
    "            input_test_arr = preprocessing_obj.transform(test_data)\n",
    "\n",
    "            jl.dump(preprocessing_obj, self.data_transformation_config.preprocessor_obj_file)\n",
    "            logger.info(f\"Saved fitted preprocessor to {self.data_transformation_config.preprocessor_obj_file}\")\n",
    "\n",
    "            logger.info(f\"Returning the input train feature as an array and test feature as array respectively\")\n",
    "            return input_feature_arr, input_test_arr\n",
    "        except Exception as e:\n",
    "            logger.info(f\"Error in initiating the data transformation pipeline {e}\")\n",
    "            raise e\n"
   ]
  },
  {
   "cell_type": "code",
   "execution_count": 44,
   "metadata": {},
   "outputs": [
    {
     "name": "stdout",
     "output_type": "stream",
     "text": [
      "[2024-12-14 16:24:26,944, word2vec, INFO, collecting all words and their counts ]\n",
      "[2024-12-14 16:24:26,946, word2vec, INFO, PROGRESS: at sentence #0, processed 0 words, keeping 0 word types ]\n",
      "[2024-12-14 16:24:27,061, word2vec, INFO, PROGRESS: at sentence #10000, processed 408439 words, keeping 26554 word types ]\n",
      "[2024-12-14 16:24:27,163, word2vec, INFO, PROGRESS: at sentence #20000, processed 809383 words, keeping 39092 word types ]\n",
      "[2024-12-14 16:24:27,264, word2vec, INFO, PROGRESS: at sentence #30000, processed 1218278 words, keeping 49917 word types ]\n",
      "[2024-12-14 16:24:27,377, word2vec, INFO, PROGRESS: at sentence #40000, processed 1623949 words, keeping 59450 word types ]\n",
      "[2024-12-14 16:24:27,462, word2vec, INFO, PROGRESS: at sentence #50000, processed 2028560 words, keeping 67824 word types ]\n",
      "[2024-12-14 16:24:27,564, word2vec, INFO, PROGRESS: at sentence #60000, processed 2431931 words, keeping 75714 word types ]\n",
      "[2024-12-14 16:24:27,655, word2vec, INFO, PROGRESS: at sentence #70000, processed 2832678 words, keeping 83130 word types ]\n",
      "[2024-12-14 16:24:27,753, word2vec, INFO, PROGRESS: at sentence #80000, processed 3245426 words, keeping 90629 word types ]\n",
      "[2024-12-14 16:24:27,841, word2vec, INFO, PROGRESS: at sentence #90000, processed 3650408 words, keeping 97905 word types ]\n",
      "[2024-12-14 16:24:27,928, word2vec, INFO, PROGRESS: at sentence #100000, processed 4047571 words, keeping 104455 word types ]\n",
      "[2024-12-14 16:24:27,971, word2vec, INFO, collected 106574 word types from a corpus of 4176922 raw words and 103304 sentences ]\n",
      "[2024-12-14 16:24:27,972, word2vec, INFO, Creating a fresh vocabulary ]\n",
      "[2024-12-14 16:24:28,489, utils, INFO, FastText lifecycle event {'msg': 'effective_min_count=1 retains 106574 unique words (100.00% of original 106574, drops 0)', 'datetime': '2024-12-14T16:24:28.489497', 'gensim': '4.3.3', 'python': '3.9.21 | packaged by conda-forge | (main, Dec  5 2024, 13:41:22) [MSC v.1929 64 bit (AMD64)]', 'platform': 'Windows-10-10.0.19045-SP0', 'event': 'prepare_vocab'} ]\n",
      "[2024-12-14 16:24:28,490, utils, INFO, FastText lifecycle event {'msg': 'effective_min_count=1 leaves 4176922 word corpus (100.00% of original 4176922, drops 0)', 'datetime': '2024-12-14T16:24:28.490495', 'gensim': '4.3.3', 'python': '3.9.21 | packaged by conda-forge | (main, Dec  5 2024, 13:41:22) [MSC v.1929 64 bit (AMD64)]', 'platform': 'Windows-10-10.0.19045-SP0', 'event': 'prepare_vocab'} ]\n",
      "[2024-12-14 16:24:29,217, word2vec, INFO, deleting the raw counts dictionary of 106574 items ]\n",
      "[2024-12-14 16:24:29,220, word2vec, INFO, sample=0.001 downsamples 35 most-common words ]\n",
      "[2024-12-14 16:24:29,222, utils, INFO, FastText lifecycle event {'msg': 'downsampling leaves estimated 3726514.7489644596 word corpus (89.2%% of prior 4176922)', 'datetime': '2024-12-14T16:24:29.222538', 'gensim': '4.3.3', 'python': '3.9.21 | packaged by conda-forge | (main, Dec  5 2024, 13:41:22) [MSC v.1929 64 bit (AMD64)]', 'platform': 'Windows-10-10.0.19045-SP0', 'event': 'prepare_vocab'} ]\n",
      "[2024-12-14 16:24:31,349, fasttext, INFO, estimated required memory for 106574 words, 2000000 buckets and 25 dimensions: 297459020 bytes ]\n",
      "[2024-12-14 16:24:31,352, word2vec, INFO, resetting layer weights ]\n",
      "[2024-12-14 16:24:37,802, utils, INFO, FastText lifecycle event {'update': False, 'trim_rule': 'None', 'datetime': '2024-12-14T16:24:37.802674', 'gensim': '4.3.3', 'python': '3.9.21 | packaged by conda-forge | (main, Dec  5 2024, 13:41:22) [MSC v.1929 64 bit (AMD64)]', 'platform': 'Windows-10-10.0.19045-SP0', 'event': 'build_vocab'} ]\n",
      "[2024-12-14 16:24:37,804, utils, INFO, FastText lifecycle event {'msg': 'training model with 8 workers on 106574 vocabulary and 25 features, using sg=1 hs=0 sample=0.001 negative=5 window=5 shrink_windows=True', 'datetime': '2024-12-14T16:24:37.804669', 'gensim': '4.3.3', 'python': '3.9.21 | packaged by conda-forge | (main, Dec  5 2024, 13:41:22) [MSC v.1929 64 bit (AMD64)]', 'platform': 'Windows-10-10.0.19045-SP0', 'event': 'train'} ]\n",
      "[2024-12-14 16:24:38,815, word2vec, INFO, EPOCH 0 - PROGRESS: at 6.16% examples, 230760 words/s, in_qsize 16, out_qsize 0 ]\n",
      "[2024-12-14 16:24:39,826, word2vec, INFO, EPOCH 0 - PROGRESS: at 13.31% examples, 247417 words/s, in_qsize 15, out_qsize 0 ]\n",
      "[2024-12-14 16:24:40,857, word2vec, INFO, EPOCH 0 - PROGRESS: at 21.17% examples, 259742 words/s, in_qsize 15, out_qsize 0 ]\n",
      "[2024-12-14 16:24:41,884, word2vec, INFO, EPOCH 0 - PROGRESS: at 27.52% examples, 253301 words/s, in_qsize 15, out_qsize 0 ]\n",
      "[2024-12-14 16:24:42,910, word2vec, INFO, EPOCH 0 - PROGRESS: at 34.37% examples, 252809 words/s, in_qsize 15, out_qsize 0 ]\n",
      "[2024-12-14 16:24:43,910, word2vec, INFO, EPOCH 0 - PROGRESS: at 41.18% examples, 253561 words/s, in_qsize 15, out_qsize 0 ]\n",
      "[2024-12-14 16:24:44,911, word2vec, INFO, EPOCH 0 - PROGRESS: at 49.24% examples, 259115 words/s, in_qsize 15, out_qsize 0 ]\n",
      "[2024-12-14 16:24:45,964, word2vec, INFO, EPOCH 0 - PROGRESS: at 57.01% examples, 261460 words/s, in_qsize 15, out_qsize 0 ]\n",
      "[2024-12-14 16:24:46,965, word2vec, INFO, EPOCH 0 - PROGRESS: at 64.31% examples, 261971 words/s, in_qsize 15, out_qsize 0 ]\n",
      "[2024-12-14 16:24:47,971, word2vec, INFO, EPOCH 0 - PROGRESS: at 71.59% examples, 263159 words/s, in_qsize 15, out_qsize 0 ]\n",
      "[2024-12-14 16:24:49,028, word2vec, INFO, EPOCH 0 - PROGRESS: at 79.09% examples, 263736 words/s, in_qsize 15, out_qsize 0 ]\n",
      "[2024-12-14 16:24:50,069, word2vec, INFO, EPOCH 0 - PROGRESS: at 86.73% examples, 264543 words/s, in_qsize 15, out_qsize 0 ]\n",
      "[2024-12-14 16:24:51,137, word2vec, INFO, EPOCH 0 - PROGRESS: at 94.45% examples, 264619 words/s, in_qsize 15, out_qsize 0 ]\n",
      "[2024-12-14 16:24:51,755, word2vec, INFO, EPOCH 0: training on 4176922 raw words (3726695 effective words) took 13.9s, 267315 effective words/s ]\n",
      "[2024-12-14 16:24:52,775, word2vec, INFO, EPOCH 1 - PROGRESS: at 5.44% examples, 202600 words/s, in_qsize 15, out_qsize 0 ]\n",
      "[2024-12-14 16:24:53,807, word2vec, INFO, EPOCH 1 - PROGRESS: at 11.04% examples, 204570 words/s, in_qsize 15, out_qsize 0 ]\n",
      "[2024-12-14 16:24:54,817, word2vec, INFO, EPOCH 1 - PROGRESS: at 16.89% examples, 206733 words/s, in_qsize 16, out_qsize 0 ]\n",
      "[2024-12-14 16:24:55,825, word2vec, INFO, EPOCH 1 - PROGRESS: at 22.82% examples, 210007 words/s, in_qsize 15, out_qsize 0 ]\n",
      "[2024-12-14 16:24:56,852, word2vec, INFO, EPOCH 1 - PROGRESS: at 28.44% examples, 209562 words/s, in_qsize 16, out_qsize 0 ]\n",
      "[2024-12-14 16:24:57,890, word2vec, INFO, EPOCH 1 - PROGRESS: at 33.93% examples, 207413 words/s, in_qsize 15, out_qsize 0 ]\n",
      "[2024-12-14 16:24:58,947, word2vec, INFO, EPOCH 1 - PROGRESS: at 39.63% examples, 206558 words/s, in_qsize 15, out_qsize 0 ]\n",
      "[2024-12-14 16:24:59,999, word2vec, INFO, EPOCH 1 - PROGRESS: at 45.27% examples, 206035 words/s, in_qsize 15, out_qsize 0 ]\n",
      "[2024-12-14 16:25:01,001, word2vec, INFO, EPOCH 1 - PROGRESS: at 51.13% examples, 206689 words/s, in_qsize 15, out_qsize 0 ]\n",
      "[2024-12-14 16:25:02,006, word2vec, INFO, EPOCH 1 - PROGRESS: at 57.28% examples, 208914 words/s, in_qsize 16, out_qsize 0 ]\n",
      "[2024-12-14 16:25:03,012, word2vec, INFO, EPOCH 1 - PROGRESS: at 63.31% examples, 209951 words/s, in_qsize 14, out_qsize 1 ]\n",
      "[2024-12-14 16:25:04,021, word2vec, INFO, EPOCH 1 - PROGRESS: at 68.99% examples, 210090 words/s, in_qsize 15, out_qsize 0 ]\n",
      "[2024-12-14 16:25:05,024, word2vec, INFO, EPOCH 1 - PROGRESS: at 74.85% examples, 210963 words/s, in_qsize 16, out_qsize 0 ]\n",
      "[2024-12-14 16:25:06,026, word2vec, INFO, EPOCH 1 - PROGRESS: at 80.70% examples, 211733 words/s, in_qsize 15, out_qsize 0 ]\n",
      "[2024-12-14 16:25:07,143, word2vec, INFO, EPOCH 1 - PROGRESS: at 86.73% examples, 210793 words/s, in_qsize 15, out_qsize 0 ]\n",
      "[2024-12-14 16:25:08,180, word2vec, INFO, EPOCH 1 - PROGRESS: at 92.55% examples, 210444 words/s, in_qsize 15, out_qsize 0 ]\n",
      "[2024-12-14 16:25:09,185, word2vec, INFO, EPOCH 1 - PROGRESS: at 98.36% examples, 210535 words/s, in_qsize 7, out_qsize 1 ]\n",
      "[2024-12-14 16:25:09,310, word2vec, INFO, EPOCH 1: training on 4176922 raw words (3726671 effective words) took 17.5s, 212401 effective words/s ]\n",
      "[2024-12-14 16:25:10,370, word2vec, INFO, EPOCH 2 - PROGRESS: at 5.18% examples, 186610 words/s, in_qsize 15, out_qsize 0 ]\n",
      "[2024-12-14 16:25:11,391, word2vec, INFO, EPOCH 2 - PROGRESS: at 11.06% examples, 201933 words/s, in_qsize 15, out_qsize 0 ]\n",
      "[2024-12-14 16:25:12,445, word2vec, INFO, EPOCH 2 - PROGRESS: at 17.39% examples, 207610 words/s, in_qsize 15, out_qsize 0 ]\n",
      "[2024-12-14 16:25:13,457, word2vec, INFO, EPOCH 2 - PROGRESS: at 23.28% examples, 210492 words/s, in_qsize 15, out_qsize 0 ]\n",
      "[2024-12-14 16:25:14,621, word2vec, INFO, EPOCH 2 - PROGRESS: at 29.42% examples, 207857 words/s, in_qsize 15, out_qsize 0 ]\n",
      "[2024-12-14 16:25:15,630, word2vec, INFO, EPOCH 2 - PROGRESS: at 35.57% examples, 211163 words/s, in_qsize 15, out_qsize 0 ]\n",
      "[2024-12-14 16:25:16,674, word2vec, INFO, EPOCH 2 - PROGRESS: at 41.41% examples, 211409 words/s, in_qsize 15, out_qsize 0 ]\n",
      "[2024-12-14 16:25:17,779, word2vec, INFO, EPOCH 2 - PROGRESS: at 47.78% examples, 211101 words/s, in_qsize 15, out_qsize 0 ]\n",
      "[2024-12-14 16:25:18,783, word2vec, INFO, EPOCH 2 - PROGRESS: at 53.27% examples, 210156 words/s, in_qsize 15, out_qsize 0 ]\n",
      "[2024-12-14 16:25:19,795, word2vec, INFO, EPOCH 2 - PROGRESS: at 59.23% examples, 211023 words/s, in_qsize 15, out_qsize 0 ]\n",
      "[2024-12-14 16:25:20,902, word2vec, INFO, EPOCH 2 - PROGRESS: at 65.29% examples, 210001 words/s, in_qsize 15, out_qsize 0 ]\n",
      "[2024-12-14 16:25:21,953, word2vec, INFO, EPOCH 2 - PROGRESS: at 71.59% examples, 211568 words/s, in_qsize 15, out_qsize 0 ]\n",
      "[2024-12-14 16:25:22,969, word2vec, INFO, EPOCH 2 - PROGRESS: at 77.42% examples, 212113 words/s, in_qsize 15, out_qsize 0 ]\n",
      "[2024-12-14 16:25:23,972, word2vec, INFO, EPOCH 2 - PROGRESS: at 82.84% examples, 211541 words/s, in_qsize 14, out_qsize 1 ]\n",
      "[2024-12-14 16:25:25,002, word2vec, INFO, EPOCH 2 - PROGRESS: at 88.94% examples, 211814 words/s, in_qsize 15, out_qsize 0 ]\n",
      "[2024-12-14 16:25:26,016, word2vec, INFO, EPOCH 2 - PROGRESS: at 95.17% examples, 212763 words/s, in_qsize 15, out_qsize 0 ]\n",
      "[2024-12-14 16:25:26,699, word2vec, INFO, EPOCH 2: training on 4176922 raw words (3726576 effective words) took 17.4s, 214451 effective words/s ]\n",
      "[2024-12-14 16:25:27,730, word2vec, INFO, EPOCH 3 - PROGRESS: at 4.94% examples, 183203 words/s, in_qsize 15, out_qsize 0 ]\n",
      "[2024-12-14 16:25:28,829, word2vec, INFO, EPOCH 3 - PROGRESS: at 10.78% examples, 193092 words/s, in_qsize 15, out_qsize 0 ]\n",
      "[2024-12-14 16:25:29,842, word2vec, INFO, EPOCH 3 - PROGRESS: at 16.70% examples, 198744 words/s, in_qsize 15, out_qsize 0 ]\n",
      "[2024-12-14 16:25:30,843, word2vec, INFO, EPOCH 3 - PROGRESS: at 22.57% examples, 204237 words/s, in_qsize 15, out_qsize 0 ]\n",
      "[2024-12-14 16:25:31,865, word2vec, INFO, EPOCH 3 - PROGRESS: at 28.69% examples, 208598 words/s, in_qsize 15, out_qsize 0 ]\n",
      "[2024-12-14 16:25:32,883, word2vec, INFO, EPOCH 3 - PROGRESS: at 34.61% examples, 210145 words/s, in_qsize 15, out_qsize 0 ]\n",
      "[2024-12-14 16:25:33,920, word2vec, INFO, EPOCH 3 - PROGRESS: at 39.86% examples, 207003 words/s, in_qsize 15, out_qsize 0 ]\n",
      "[2024-12-14 16:25:34,965, word2vec, INFO, EPOCH 3 - PROGRESS: at 46.06% examples, 208739 words/s, in_qsize 16, out_qsize 0 ]\n",
      "[2024-12-14 16:25:35,968, word2vec, INFO, EPOCH 3 - PROGRESS: at 51.60% examples, 208135 words/s, in_qsize 15, out_qsize 0 ]\n",
      "[2024-12-14 16:25:36,997, word2vec, INFO, EPOCH 3 - PROGRESS: at 57.50% examples, 208843 words/s, in_qsize 15, out_qsize 0 ]\n",
      "[2024-12-14 16:25:38,069, word2vec, INFO, EPOCH 3 - PROGRESS: at 63.83% examples, 209445 words/s, in_qsize 15, out_qsize 0 ]\n",
      "[2024-12-14 16:25:39,135, word2vec, INFO, EPOCH 3 - PROGRESS: at 69.68% examples, 209379 words/s, in_qsize 16, out_qsize 0 ]\n",
      "[2024-12-14 16:25:40,226, word2vec, INFO, EPOCH 3 - PROGRESS: at 75.78% examples, 209607 words/s, in_qsize 15, out_qsize 0 ]\n",
      "[2024-12-14 16:25:41,291, word2vec, INFO, EPOCH 3 - PROGRESS: at 81.63% examples, 209533 words/s, in_qsize 15, out_qsize 0 ]\n",
      "[2024-12-14 16:25:42,307, word2vec, INFO, EPOCH 3 - PROGRESS: at 87.71% examples, 210121 words/s, in_qsize 15, out_qsize 0 ]\n",
      "[2024-12-14 16:25:43,376, word2vec, INFO, EPOCH 3 - PROGRESS: at 94.01% examples, 210469 words/s, in_qsize 15, out_qsize 0 ]\n",
      "[2024-12-14 16:25:44,234, word2vec, INFO, EPOCH 3: training on 4176922 raw words (3726260 effective words) took 17.5s, 212642 effective words/s ]\n",
      "[2024-12-14 16:25:45,257, word2vec, INFO, EPOCH 4 - PROGRESS: at 4.44% examples, 167431 words/s, in_qsize 15, out_qsize 0 ]\n",
      "[2024-12-14 16:25:46,268, word2vec, INFO, EPOCH 4 - PROGRESS: at 10.56% examples, 197998 words/s, in_qsize 15, out_qsize 0 ]\n",
      "[2024-12-14 16:25:47,338, word2vec, INFO, EPOCH 4 - PROGRESS: at 16.65% examples, 201253 words/s, in_qsize 15, out_qsize 0 ]\n",
      "[2024-12-14 16:25:48,363, word2vec, INFO, EPOCH 4 - PROGRESS: at 22.59% examples, 205058 words/s, in_qsize 15, out_qsize 0 ]\n",
      "[2024-12-14 16:25:49,382, word2vec, INFO, EPOCH 4 - PROGRESS: at 28.44% examples, 207601 words/s, in_qsize 15, out_qsize 0 ]\n",
      "[2024-12-14 16:25:50,391, word2vec, INFO, EPOCH 4 - PROGRESS: at 34.39% examples, 209622 words/s, in_qsize 15, out_qsize 0 ]\n",
      "[2024-12-14 16:25:51,457, word2vec, INFO, EPOCH 4 - PROGRESS: at 40.27% examples, 209467 words/s, in_qsize 15, out_qsize 0 ]\n",
      "[2024-12-14 16:25:52,478, word2vec, INFO, EPOCH 4 - PROGRESS: at 46.55% examples, 211522 words/s, in_qsize 15, out_qsize 0 ]\n",
      "[2024-12-14 16:25:53,498, word2vec, INFO, EPOCH 4 - PROGRESS: at 52.79% examples, 213066 words/s, in_qsize 15, out_qsize 0 ]\n",
      "[2024-12-14 16:25:54,498, word2vec, INFO, EPOCH 4 - PROGRESS: at 57.99% examples, 211307 words/s, in_qsize 15, out_qsize 0 ]\n",
      "[2024-12-14 16:25:55,527, word2vec, INFO, EPOCH 4 - PROGRESS: at 63.81% examples, 210938 words/s, in_qsize 15, out_qsize 0 ]\n",
      "[2024-12-14 16:25:56,590, word2vec, INFO, EPOCH 4 - PROGRESS: at 69.92% examples, 211486 words/s, in_qsize 16, out_qsize 0 ]\n",
      "[2024-12-14 16:25:57,627, word2vec, INFO, EPOCH 4 - PROGRESS: at 75.77% examples, 211719 words/s, in_qsize 15, out_qsize 0 ]\n",
      "[2024-12-14 16:25:58,650, word2vec, INFO, EPOCH 4 - PROGRESS: at 81.84% examples, 212741 words/s, in_qsize 15, out_qsize 0 ]\n",
      "[2024-12-14 16:25:59,657, word2vec, INFO, EPOCH 4 - PROGRESS: at 87.68% examples, 212672 words/s, in_qsize 15, out_qsize 0 ]\n",
      "[2024-12-14 16:26:00,659, word2vec, INFO, EPOCH 4 - PROGRESS: at 93.54% examples, 212668 words/s, in_qsize 16, out_qsize 1 ]\n",
      "[2024-12-14 16:26:01,640, word2vec, INFO, EPOCH 4: training on 4176922 raw words (3726535 effective words) took 17.4s, 214256 effective words/s ]\n",
      "[2024-12-14 16:26:02,712, word2vec, INFO, EPOCH 5 - PROGRESS: at 4.51% examples, 159024 words/s, in_qsize 15, out_qsize 0 ]\n",
      "[2024-12-14 16:26:03,748, word2vec, INFO, EPOCH 5 - PROGRESS: at 10.56% examples, 190729 words/s, in_qsize 15, out_qsize 0 ]\n",
      "[2024-12-14 16:26:04,806, word2vec, INFO, EPOCH 5 - PROGRESS: at 16.65% examples, 197184 words/s, in_qsize 15, out_qsize 0 ]\n",
      "[2024-12-14 16:26:05,822, word2vec, INFO, EPOCH 5 - PROGRESS: at 22.34% examples, 200200 words/s, in_qsize 15, out_qsize 0 ]\n",
      "[2024-12-14 16:26:06,850, word2vec, INFO, EPOCH 5 - PROGRESS: at 28.21% examples, 203413 words/s, in_qsize 15, out_qsize 0 ]\n",
      "[2024-12-14 16:26:07,865, word2vec, INFO, EPOCH 5 - PROGRESS: at 34.17% examples, 205881 words/s, in_qsize 16, out_qsize 1 ]\n",
      "[2024-12-14 16:26:08,898, word2vec, INFO, EPOCH 5 - PROGRESS: at 40.08% examples, 207225 words/s, in_qsize 15, out_qsize 0 ]\n",
      "[2024-12-14 16:26:09,906, word2vec, INFO, EPOCH 5 - PROGRESS: at 46.06% examples, 208773 words/s, in_qsize 15, out_qsize 0 ]\n",
      "[2024-12-14 16:26:10,925, word2vec, INFO, EPOCH 5 - PROGRESS: at 51.86% examples, 208742 words/s, in_qsize 15, out_qsize 0 ]\n",
      "[2024-12-14 16:26:11,924, word2vec, INFO, EPOCH 5 - PROGRESS: at 57.74% examples, 209985 words/s, in_qsize 15, out_qsize 0 ]\n",
      "[2024-12-14 16:26:13,012, word2vec, INFO, EPOCH 5 - PROGRESS: at 63.83% examples, 209423 words/s, in_qsize 15, out_qsize 0 ]\n",
      "[2024-12-14 16:26:14,059, word2vec, INFO, EPOCH 5 - PROGRESS: at 69.92% examples, 210386 words/s, in_qsize 15, out_qsize 0 ]\n",
      "[2024-12-14 16:26:15,090, word2vec, INFO, EPOCH 5 - PROGRESS: at 75.99% examples, 211445 words/s, in_qsize 15, out_qsize 0 ]\n",
      "[2024-12-14 16:26:16,120, word2vec, INFO, EPOCH 5 - PROGRESS: at 81.84% examples, 211755 words/s, in_qsize 15, out_qsize 0 ]\n",
      "[2024-12-14 16:26:17,181, word2vec, INFO, EPOCH 5 - PROGRESS: at 87.94% examples, 211583 words/s, in_qsize 16, out_qsize 1 ]\n",
      "[2024-12-14 16:26:18,241, word2vec, INFO, EPOCH 5 - PROGRESS: at 93.99% examples, 211444 words/s, in_qsize 15, out_qsize 0 ]\n",
      "[2024-12-14 16:26:19,199, word2vec, INFO, EPOCH 5: training on 4176922 raw words (3726571 effective words) took 17.5s, 212361 effective words/s ]\n",
      "[2024-12-14 16:26:20,258, word2vec, INFO, EPOCH 6 - PROGRESS: at 5.21% examples, 186831 words/s, in_qsize 15, out_qsize 0 ]\n",
      "[2024-12-14 16:26:21,295, word2vec, INFO, EPOCH 6 - PROGRESS: at 11.04% examples, 200540 words/s, in_qsize 15, out_qsize 0 ]\n",
      "[2024-12-14 16:26:22,339, word2vec, INFO, EPOCH 6 - PROGRESS: at 17.15% examples, 204545 words/s, in_qsize 15, out_qsize 0 ]\n",
      "[2024-12-14 16:26:23,376, word2vec, INFO, EPOCH 6 - PROGRESS: at 22.82% examples, 204696 words/s, in_qsize 16, out_qsize 0 ]\n",
      "[2024-12-14 16:26:24,382, word2vec, INFO, EPOCH 6 - PROGRESS: at 28.44% examples, 206135 words/s, in_qsize 16, out_qsize 0 ]\n",
      "[2024-12-14 16:26:25,401, word2vec, INFO, EPOCH 6 - PROGRESS: at 34.37% examples, 208116 words/s, in_qsize 15, out_qsize 0 ]\n",
      "[2024-12-14 16:26:26,404, word2vec, INFO, EPOCH 6 - PROGRESS: at 40.29% examples, 209929 words/s, in_qsize 15, out_qsize 0 ]\n",
      "[2024-12-14 16:26:27,408, word2vec, INFO, EPOCH 6 - PROGRESS: at 45.79% examples, 209155 words/s, in_qsize 15, out_qsize 0 ]\n",
      "[2024-12-14 16:26:28,423, word2vec, INFO, EPOCH 6 - PROGRESS: at 51.12% examples, 207256 words/s, in_qsize 15, out_qsize 0 ]\n",
      "[2024-12-14 16:26:29,508, word2vec, INFO, EPOCH 6 - PROGRESS: at 56.58% examples, 205195 words/s, in_qsize 15, out_qsize 0 ]\n",
      "[2024-12-14 16:26:30,517, word2vec, INFO, EPOCH 6 - PROGRESS: at 62.81% examples, 207290 words/s, in_qsize 15, out_qsize 0 ]\n",
      "[2024-12-14 16:26:31,541, word2vec, INFO, EPOCH 6 - PROGRESS: at 68.75% examples, 208090 words/s, in_qsize 15, out_qsize 0 ]\n",
      "[2024-12-14 16:26:32,549, word2vec, INFO, EPOCH 6 - PROGRESS: at 74.67% examples, 209033 words/s, in_qsize 15, out_qsize 0 ]\n",
      "[2024-12-14 16:26:33,602, word2vec, INFO, EPOCH 6 - PROGRESS: at 80.24% examples, 208578 words/s, in_qsize 15, out_qsize 0 ]\n",
      "[2024-12-14 16:26:34,606, word2vec, INFO, EPOCH 6 - PROGRESS: at 85.74% examples, 208253 words/s, in_qsize 15, out_qsize 0 ]\n",
      "[2024-12-14 16:26:35,617, word2vec, INFO, EPOCH 6 - PROGRESS: at 91.35% examples, 207876 words/s, in_qsize 15, out_qsize 0 ]\n",
      "[2024-12-14 16:26:36,620, word2vec, INFO, EPOCH 6 - PROGRESS: at 97.61% examples, 209132 words/s, in_qsize 10, out_qsize 0 ]\n",
      "[2024-12-14 16:26:36,904, word2vec, INFO, EPOCH 6: training on 4176922 raw words (3726546 effective words) took 17.7s, 210619 effective words/s ]\n",
      "[2024-12-14 16:26:37,932, word2vec, INFO, EPOCH 7 - PROGRESS: at 4.94% examples, 184016 words/s, in_qsize 15, out_qsize 0 ]\n",
      "[2024-12-14 16:26:38,933, word2vec, INFO, EPOCH 7 - PROGRESS: at 10.10% examples, 189661 words/s, in_qsize 15, out_qsize 0 ]\n",
      "[2024-12-14 16:26:39,981, word2vec, INFO, EPOCH 7 - PROGRESS: at 15.53% examples, 188471 words/s, in_qsize 15, out_qsize 0 ]\n",
      "[2024-12-14 16:26:41,011, word2vec, INFO, EPOCH 7 - PROGRESS: at 21.41% examples, 195215 words/s, in_qsize 15, out_qsize 0 ]\n",
      "[2024-12-14 16:26:42,092, word2vec, INFO, EPOCH 7 - PROGRESS: at 27.76% examples, 200841 words/s, in_qsize 15, out_qsize 0 ]\n",
      "[2024-12-14 16:26:43,126, word2vec, INFO, EPOCH 7 - PROGRESS: at 33.45% examples, 201788 words/s, in_qsize 15, out_qsize 0 ]\n",
      "[2024-12-14 16:26:44,161, word2vec, INFO, EPOCH 7 - PROGRESS: at 38.91% examples, 201086 words/s, in_qsize 16, out_qsize 0 ]\n",
      "[2024-12-14 16:26:45,161, word2vec, INFO, EPOCH 7 - PROGRESS: at 44.77% examples, 203611 words/s, in_qsize 13, out_qsize 2 ]\n",
      "[2024-12-14 16:26:46,190, word2vec, INFO, EPOCH 7 - PROGRESS: at 51.36% examples, 206851 words/s, in_qsize 15, out_qsize 0 ]\n",
      "[2024-12-14 16:26:47,238, word2vec, INFO, EPOCH 7 - PROGRESS: at 57.01% examples, 206451 words/s, in_qsize 15, out_qsize 0 ]\n",
      "[2024-12-14 16:26:48,254, word2vec, INFO, EPOCH 7 - PROGRESS: at 63.05% examples, 207490 words/s, in_qsize 15, out_qsize 0 ]\n",
      "[2024-12-14 16:26:49,286, word2vec, INFO, EPOCH 7 - PROGRESS: at 68.78% examples, 207421 words/s, in_qsize 15, out_qsize 0 ]\n",
      "[2024-12-14 16:26:50,287, word2vec, INFO, EPOCH 7 - PROGRESS: at 74.61% examples, 208515 words/s, in_qsize 15, out_qsize 0 ]\n",
      "[2024-12-14 16:26:51,312, word2vec, INFO, EPOCH 7 - PROGRESS: at 80.24% examples, 208506 words/s, in_qsize 15, out_qsize 0 ]\n",
      "[2024-12-14 16:26:52,377, word2vec, INFO, EPOCH 7 - PROGRESS: at 86.26% examples, 208525 words/s, in_qsize 15, out_qsize 0 ]\n",
      "[2024-12-14 16:26:53,381, word2vec, INFO, EPOCH 7 - PROGRESS: at 91.81% examples, 208192 words/s, in_qsize 15, out_qsize 0 ]\n",
      "[2024-12-14 16:26:54,399, word2vec, INFO, EPOCH 7 - PROGRESS: at 97.63% examples, 208241 words/s, in_qsize 10, out_qsize 0 ]\n",
      "[2024-12-14 16:26:54,688, word2vec, INFO, EPOCH 7: training on 4176922 raw words (3726795 effective words) took 17.8s, 209697 effective words/s ]\n",
      "[2024-12-14 16:26:55,704, word2vec, INFO, EPOCH 8 - PROGRESS: at 4.74% examples, 176825 words/s, in_qsize 16, out_qsize 0 ]\n",
      "[2024-12-14 16:26:56,772, word2vec, INFO, EPOCH 8 - PROGRESS: at 10.78% examples, 197380 words/s, in_qsize 15, out_qsize 0 ]\n",
      "[2024-12-14 16:26:57,895, word2vec, INFO, EPOCH 8 - PROGRESS: at 16.65% examples, 194801 words/s, in_qsize 15, out_qsize 0 ]\n",
      "[2024-12-14 16:26:58,921, word2vec, INFO, EPOCH 8 - PROGRESS: at 22.34% examples, 197859 words/s, in_qsize 15, out_qsize 0 ]\n",
      "[2024-12-14 16:26:59,957, word2vec, INFO, EPOCH 8 - PROGRESS: at 28.21% examples, 201184 words/s, in_qsize 15, out_qsize 0 ]\n",
      "[2024-12-14 16:27:00,969, word2vec, INFO, EPOCH 8 - PROGRESS: at 34.14% examples, 204164 words/s, in_qsize 15, out_qsize 0 ]\n",
      "[2024-12-14 16:27:02,167, word2vec, INFO, EPOCH 8 - PROGRESS: at 40.29% examples, 202290 words/s, in_qsize 15, out_qsize 0 ]\n",
      "[2024-12-14 16:27:03,222, word2vec, INFO, EPOCH 8 - PROGRESS: at 46.55% examples, 204349 words/s, in_qsize 15, out_qsize 0 ]\n",
      "[2024-12-14 16:27:04,231, word2vec, INFO, EPOCH 8 - PROGRESS: at 52.57% examples, 205872 words/s, in_qsize 15, out_qsize 0 ]\n",
      "[2024-12-14 16:27:05,267, word2vec, INFO, EPOCH 8 - PROGRESS: at 58.74% examples, 207539 words/s, in_qsize 15, out_qsize 0 ]\n",
      "[2024-12-14 16:27:06,313, word2vec, INFO, EPOCH 8 - PROGRESS: at 64.79% examples, 207973 words/s, in_qsize 15, out_qsize 0 ]\n",
      "[2024-12-14 16:27:07,320, word2vec, INFO, EPOCH 8 - PROGRESS: at 70.41% examples, 208302 words/s, in_qsize 15, out_qsize 0 ]\n",
      "[2024-12-14 16:27:08,336, word2vec, INFO, EPOCH 8 - PROGRESS: at 76.01% examples, 208426 words/s, in_qsize 15, out_qsize 0 ]\n",
      "[2024-12-14 16:27:09,415, word2vec, INFO, EPOCH 8 - PROGRESS: at 81.84% examples, 208246 words/s, in_qsize 15, out_qsize 0 ]\n",
      "[2024-12-14 16:27:10,444, word2vec, INFO, EPOCH 8 - PROGRESS: at 87.94% examples, 208743 words/s, in_qsize 15, out_qsize 0 ]\n",
      "[2024-12-14 16:27:11,458, word2vec, INFO, EPOCH 8 - PROGRESS: at 94.01% examples, 209324 words/s, in_qsize 15, out_qsize 0 ]\n",
      "[2024-12-14 16:27:12,369, word2vec, INFO, EPOCH 8: training on 4176922 raw words (3726910 effective words) took 17.7s, 210924 effective words/s ]\n",
      "[2024-12-14 16:27:13,395, word2vec, INFO, EPOCH 9 - PROGRESS: at 4.94% examples, 183782 words/s, in_qsize 15, out_qsize 0 ]\n",
      "[2024-12-14 16:27:14,397, word2vec, INFO, EPOCH 9 - PROGRESS: at 10.56% examples, 198167 words/s, in_qsize 15, out_qsize 0 ]\n",
      "[2024-12-14 16:27:15,430, word2vec, INFO, EPOCH 9 - PROGRESS: at 16.65% examples, 203895 words/s, in_qsize 15, out_qsize 0 ]\n",
      "[2024-12-14 16:27:16,444, word2vec, INFO, EPOCH 9 - PROGRESS: at 22.34% examples, 205423 words/s, in_qsize 15, out_qsize 0 ]\n",
      "[2024-12-14 16:27:17,473, word2vec, INFO, EPOCH 9 - PROGRESS: at 28.23% examples, 207514 words/s, in_qsize 15, out_qsize 0 ]\n",
      "[2024-12-14 16:27:18,474, word2vec, INFO, EPOCH 9 - PROGRESS: at 33.93% examples, 208371 words/s, in_qsize 16, out_qsize 0 ]\n",
      "[2024-12-14 16:27:19,499, word2vec, INFO, EPOCH 9 - PROGRESS: at 39.63% examples, 208319 words/s, in_qsize 15, out_qsize 0 ]\n",
      "[2024-12-14 16:27:20,513, word2vec, INFO, EPOCH 9 - PROGRESS: at 45.27% examples, 208567 words/s, in_qsize 15, out_qsize 0 ]\n",
      "[2024-12-14 16:27:21,518, word2vec, INFO, EPOCH 9 - PROGRESS: at 51.13% examples, 208899 words/s, in_qsize 15, out_qsize 0 ]\n",
      "[2024-12-14 16:27:22,533, word2vec, INFO, EPOCH 9 - PROGRESS: at 57.01% examples, 209825 words/s, in_qsize 16, out_qsize 0 ]\n",
      "[2024-12-14 16:27:23,542, word2vec, INFO, EPOCH 9 - PROGRESS: at 63.05% examples, 210736 words/s, in_qsize 16, out_qsize 0 ]\n",
      "[2024-12-14 16:27:24,560, word2vec, INFO, EPOCH 9 - PROGRESS: at 68.53% examples, 209890 words/s, in_qsize 15, out_qsize 0 ]\n",
      "[2024-12-14 16:27:25,563, word2vec, INFO, EPOCH 9 - PROGRESS: at 74.17% examples, 210097 words/s, in_qsize 15, out_qsize 0 ]\n",
      "[2024-12-14 16:27:26,616, word2vec, INFO, EPOCH 9 - PROGRESS: at 79.79% examples, 209556 words/s, in_qsize 16, out_qsize 0 ]\n",
      "[2024-12-14 16:27:27,627, word2vec, INFO, EPOCH 9 - PROGRESS: at 85.50% examples, 209640 words/s, in_qsize 15, out_qsize 0 ]\n",
      "[2024-12-14 16:27:28,629, word2vec, INFO, EPOCH 9 - PROGRESS: at 91.35% examples, 209822 words/s, in_qsize 15, out_qsize 0 ]\n",
      "[2024-12-14 16:27:29,644, word2vec, INFO, EPOCH 9 - PROGRESS: at 97.11% examples, 209802 words/s, in_qsize 12, out_qsize 0 ]\n",
      "[2024-12-14 16:27:29,986, word2vec, INFO, EPOCH 9: training on 4176922 raw words (3725855 effective words) took 17.6s, 211615 effective words/s ]\n",
      "[2024-12-14 16:27:29,987, utils, INFO, FastText lifecycle event {'msg': 'training on 41769220 raw words (37265414 effective words) took 172.2s, 216430 effective words/s', 'datetime': '2024-12-14T16:27:29.987945', 'gensim': '4.3.3', 'python': '3.9.21 | packaged by conda-forge | (main, Dec  5 2024, 13:41:22) [MSC v.1929 64 bit (AMD64)]', 'platform': 'Windows-10-10.0.19045-SP0', 'event': 'train'} ]\n",
      "[2024-12-14 16:27:34,467, utils, INFO, FastText lifecycle event {'params': 'FastText<vocab=106574, vector_size=25, alpha=0.025>', 'datetime': '2024-12-14T16:27:34.467439', 'gensim': '4.3.3', 'python': '3.9.21 | packaged by conda-forge | (main, Dec  5 2024, 13:41:22) [MSC v.1929 64 bit (AMD64)]', 'platform': 'Windows-10-10.0.19045-SP0', 'event': 'created'} ]\n",
      "[2024-12-14 16:27:34,476, keyedvectors, WARNING, destructive init_sims(replace=True) deprecated & no longer required for space-efficiency ]\n",
      "[2024-12-14 16:27:34,571, keyedvectors, INFO, storing 106574x25 projection weights into ft_reviews_vectors.bin ]\n"
     ]
    },
    {
     "name": "stderr",
     "output_type": "stream",
     "text": [
      "C:\\Users\\karthikeya\\AppData\\Local\\Temp\\ipykernel_15100\\78524876.py:17: DeprecationWarning: Call to deprecated `init_sims` (Use fill_norms() instead. See https://github.com/RaRe-Technologies/gensim/wiki/Migrating-from-Gensim-3.x-to-4).\n",
      "  model.wv.init_sims(replace=True)\n"
     ]
    }
   ],
   "source": [
    "from gensim.models import FastText\n",
    "\n",
    "# Training the FastText model\n",
    "# Define parameters like vector size, window size, and minimum word count\n",
    "model = FastText(\n",
    "    sentences=df['review_full'].to_list(),    # Input data\n",
    "    vector_size=25,      # Size of word vectors\n",
    "    window=5,             # Context window size\n",
    "    min_count=1,          # Minimum word frequency to include\n",
    "    sg=1,                 # Skip-gram model (1) or CBOW (0)\n",
    "    epochs=10,             # Number of iterations (training epochs)\n",
    "    workers=8                               # Number of CPU cores to use (set to your available cores)\n",
    "\n",
    ")\n",
    "\n",
    "# Discard unnecessary data to reduce size\n",
    "model.wv.init_sims(replace=True)\n",
    "\n",
    "# Save only the word vectors in binary format\n",
    "model.wv.save_word2vec_format(\"ft_reviews_vectors.bin\", binary=True)\n",
    "\n"
   ]
  },
  {
   "cell_type": "code",
   "execution_count": 45,
   "metadata": {},
   "outputs": [
    {
     "name": "stdout",
     "output_type": "stream",
     "text": [
      "[2024-12-14 16:27:42,577, keyedvectors, INFO, loading projection weights from ft_reviews_vectors.bin ]\n",
      "[2024-12-14 16:27:43,820, utils, INFO, KeyedVectors lifecycle event {'msg': 'loaded (106574, 25) matrix of type float32 from ft_reviews_vectors.bin', 'binary': True, 'encoding': 'utf8', 'datetime': '2024-12-14T16:27:43.820247', 'gensim': '4.3.3', 'python': '3.9.21 | packaged by conda-forge | (main, Dec  5 2024, 13:41:22) [MSC v.1929 64 bit (AMD64)]', 'platform': 'Windows-10-10.0.19045-SP0', 'event': 'load_word2vec_format'} ]\n"
     ]
    }
   ],
   "source": [
    "model = KeyedVectors.load_word2vec_format(\"ft_reviews_vectors.bin\", binary=True)"
   ]
  },
  {
   "cell_type": "markdown",
   "metadata": {},
   "source": []
  },
  {
   "cell_type": "code",
   "execution_count": 46,
   "metadata": {},
   "outputs": [
    {
     "data": {
      "text/plain": [
       "[('onnaught', 0.9587024450302124),\n",
       " ('connaughtplace', 0.9568647146224976),\n",
       " ('connnaught', 0.9519844055175781),\n",
       " ('cannaught', 0.9518898129463196),\n",
       " ('cpc', 0.9517862200737),\n",
       " ('connaught', 0.9508863091468811),\n",
       " ('barconnaught', 0.9465137720108032),\n",
       " ('citycannaught', 0.9443777799606323),\n",
       " ('connaughat', 0.9442583322525024),\n",
       " ('connaght', 0.9405683875083923),\n",
       " ('connaugt', 0.9399679899215698),\n",
       " ('connaughts', 0.9386332631111145),\n",
       " ('conaught', 0.9384315013885498),\n",
       " ('circlei', 0.9336044788360596),\n",
       " ('caunnaught', 0.9283806681632996)]"
      ]
     },
     "execution_count": 46,
     "metadata": {},
     "output_type": "execute_result"
    }
   ],
   "source": [
    "model.most_similar(\"cp\", topn=15)"
   ]
  },
  {
   "cell_type": "code",
   "execution_count": 19,
   "metadata": {},
   "outputs": [],
   "source": [
    "import pandas as pd\n",
    "import numpy as np"
   ]
  },
  {
   "cell_type": "code",
   "execution_count": 6,
   "metadata": {},
   "outputs": [],
   "source": [
    "from src.components.data_ingestion import DataIngestion\n",
    "from src.components.data_transformation import DataTransformation"
   ]
  },
  {
   "cell_type": "code",
   "execution_count": 7,
   "metadata": {},
   "outputs": [
    {
     "name": "stdout",
     "output_type": "stream",
     "text": [
      "[2024-12-18 10:48:37,125, data_ingestion, INFO, Initiating data ingestion ]\n",
      "[2024-12-18 10:48:37,126, data_ingestion, INFO, Establising Connection With SQL Database ]\n",
      "[2024-12-18 10:48:37,130, data_ingestion, INFO, Successfully connected to the SQLite database. ]\n",
      "[2024-12-18 10:48:37,132, data_ingestion, INFO, Reading New_Delhi_Reviews table  ]\n",
      "[2024-12-18 10:48:37,486, data_ingestion, INFO, Successfully read the New_Delhi_Reviews as pandas dataframe ]\n",
      "[2024-12-18 10:48:39,025, data_ingestion, INFO, succesfully ingested the raw data as a csv file into artifacts\\raw_data.csv ]\n",
      "[2024-12-18 10:48:39,028, data_ingestion, INFO, Initiating train test split ]\n",
      "[2024-12-18 10:48:40,723, data_ingestion, INFO, train and test data split successful and stored respectively as csv files at artifacts\\train_data.csv, artifacts\\test_data.csv ]\n",
      "[2024-12-18 10:48:40,748, data_transformation, INFO, Initiating the DataTransformation ]\n",
      "[2024-12-18 10:48:40,749, data_transformation, INFO, Initiatig data transformation pipeline ]\n",
      "[2024-12-18 10:48:42,116, data_transformation, INFO, getting set of stopwords from NLTK from English language ]\n",
      "[2024-12-18 10:48:42,119, data_transformation, INFO, WordNetLemmatizer from NLTK library is instantiated ]\n",
      "[2024-12-18 10:48:42,121, data_transformation, INFO, Loading Gensim Word2Vec model for embedding generation ]\n",
      "[2024-12-18 10:48:42,122, keyedvectors, INFO, loading projection weights from ft_reviews_vectors.bin ]\n",
      "[2024-12-18 10:48:43,255, utils, INFO, KeyedVectors lifecycle event {'msg': 'loaded (106574, 25) matrix of type float32 from ft_reviews_vectors.bin', 'binary': True, 'encoding': 'utf8', 'datetime': '2024-12-18T10:48:43.255579', 'gensim': '4.3.3', 'python': '3.9.21 | packaged by conda-forge | (main, Dec  5 2024, 13:41:22) [MSC v.1929 64 bit (AMD64)]', 'platform': 'Windows-10-10.0.19045-SP0', 'event': 'load_word2vec_format'} ]\n",
      "[2024-12-18 10:48:43,256, data_transformation, INFO, Numerical and text pipelines created ]\n",
      "[2024-12-18 10:48:43,259, data_transformation, INFO, getting set of stopwords from NLTK from English language ]\n",
      "[2024-12-18 10:48:43,262, data_transformation, INFO, WordNetLemmatizer from NLTK library is instantiated ]\n",
      "[2024-12-18 10:48:43,263, data_transformation, INFO, Loading Gensim Word2Vec model for embedding generation ]\n",
      "[2024-12-18 10:48:43,264, keyedvectors, INFO, loading projection weights from ft_reviews_vectors.bin ]\n",
      "[2024-12-18 10:48:44,369, utils, INFO, KeyedVectors lifecycle event {'msg': 'loaded (106574, 25) matrix of type float32 from ft_reviews_vectors.bin', 'binary': True, 'encoding': 'utf8', 'datetime': '2024-12-18T10:48:44.369629', 'gensim': '4.3.3', 'python': '3.9.21 | packaged by conda-forge | (main, Dec  5 2024, 13:41:22) [MSC v.1929 64 bit (AMD64)]', 'platform': 'Windows-10-10.0.19045-SP0', 'event': 'load_word2vec_format'} ]\n",
      "[2024-12-18 10:48:44,386, data_transformation, INFO, Transforming all the letters into lowercase ]\n",
      "[2024-12-18 10:48:44,482, data_transformation, INFO, Transforming all letters into lowercase is successful ]\n",
      "[2024-12-18 10:48:44,484, data_transformation, INFO, Splitting the sentences into words (Tokenization) ]\n",
      "[2024-12-18 10:48:45,410, data_transformation, INFO, Splitting the sentences into words is successful (Tokenization) ]\n",
      "[2024-12-18 10:48:45,411, data_transformation, INFO, Removing punctuations from text ]\n",
      "[2024-12-18 10:48:52,200, data_transformation, INFO, Removing punctuations from text successful ]\n",
      "[2024-12-18 10:48:52,201, data_transformation, INFO, Removing the stopwords from the tokenized words ]\n",
      "[2024-12-18 10:48:53,380, data_transformation, INFO, Removing the stopwords from the tokenized words is successful ]\n",
      "[2024-12-18 10:48:53,384, data_transformation, INFO, Initiating the lemmatization of the remaining words after stopword removal ]\n",
      "[2024-12-18 10:49:13,629, data_transformation, INFO, Lemmatization successful ]\n",
      "[2024-12-18 10:49:13,633, data_transformation, INFO, Generating embeddings for the text data ]\n",
      "[2024-12-18 10:49:48,394, data_transformation, INFO, Successfully generated embeddings ]\n",
      "[2024-12-18 10:49:48,472, data_transformation, INFO, Transforming all the letters into lowercase ]\n",
      "[2024-12-18 10:49:48,514, data_transformation, INFO, Transforming all letters into lowercase is successful ]\n",
      "[2024-12-18 10:49:48,515, data_transformation, INFO, Splitting the sentences into words (Tokenization) ]\n",
      "[2024-12-18 10:49:48,911, data_transformation, INFO, Splitting the sentences into words is successful (Tokenization) ]\n",
      "[2024-12-18 10:49:48,912, data_transformation, INFO, Removing punctuations from text ]\n",
      "[2024-12-18 10:49:52,054, data_transformation, INFO, Removing punctuations from text successful ]\n",
      "[2024-12-18 10:49:52,055, data_transformation, INFO, Removing the stopwords from the tokenized words ]\n",
      "[2024-12-18 10:49:54,304, data_transformation, INFO, Removing the stopwords from the tokenized words is successful ]\n",
      "[2024-12-18 10:49:54,316, data_transformation, INFO, Initiating the lemmatization of the remaining words after stopword removal ]\n",
      "[2024-12-18 10:50:04,919, data_transformation, INFO, Lemmatization successful ]\n",
      "[2024-12-18 10:50:05,015, data_transformation, INFO, Generating embeddings for the text data ]\n",
      "[2024-12-18 10:50:18,884, data_transformation, INFO, Successfully generated embeddings ]\n",
      "[2024-12-18 10:50:22,873, data_transformation, INFO, Saved fitted preprocessor to artifacts\\preprocessor.joblib ]\n",
      "[2024-12-18 10:50:22,875, data_transformation, INFO, Returning the input train feature as an array and test feature as array respectively ]\n"
     ]
    }
   ],
   "source": [
    "data_ingest = DataIngestion()\n",
    "tr_D, ts_D = data_ingest.initate_data_ingestion()\n",
    "data_trans = DataTransformation()\n",
    "train_data, test_data = data_trans.initiate_data_transformation(tr_D, ts_D)"
   ]
  },
  {
   "cell_type": "code",
   "execution_count": 40,
   "metadata": {},
   "outputs": [
    {
     "data": {
      "text/plain": [
       "array([-0.09674628, -0.04126421,  0.0886041 ,  0.15847152, -0.21739738,\n",
       "       -0.01634515,  0.41059327, -0.03164278, -0.15979128,  0.09566579,\n",
       "       -0.11684272, -0.2783509 , -0.02340975, -0.23550192, -0.18175894,\n",
       "        0.02855133, -0.05605806,  0.1585399 , -0.13517489,  0.23204158,\n",
       "        0.0229764 , -0.03698408,  0.03425137,  0.10117792, -0.09758179],\n",
       "      dtype=float32)"
      ]
     },
     "execution_count": 40,
     "metadata": {},
     "output_type": "execute_result"
    }
   ],
   "source": [
    "train_data[0][1]"
   ]
  },
  {
   "cell_type": "code",
   "execution_count": 73,
   "metadata": {},
   "outputs": [
    {
     "data": {
      "text/plain": [
       "(103304, 2)"
      ]
     },
     "execution_count": 73,
     "metadata": {},
     "output_type": "execute_result"
    }
   ],
   "source": [
    "train_data.shape"
   ]
  },
  {
   "cell_type": "code",
   "execution_count": 69,
   "metadata": {},
   "outputs": [
    {
     "data": {
      "text/plain": [
       "array([-2.2973046713220855,\n",
       "       array([-0.09674628, -0.04126421,  0.0886041 ,  0.15847152, -0.21739738,\n",
       "              -0.01634515,  0.41059327, -0.03164278, -0.15979128,  0.09566579,\n",
       "              -0.11684272, -0.2783509 , -0.02340975, -0.23550192, -0.18175894,\n",
       "               0.02855133, -0.05605806,  0.1585399 , -0.13517489,  0.23204158,\n",
       "               0.0229764 , -0.03698408,  0.03425137,  0.10117792, -0.09758179],\n",
       "             dtype=float32)                                                    ],\n",
       "      dtype=object)"
      ]
     },
     "execution_count": 69,
     "metadata": {},
     "output_type": "execute_result"
    }
   ],
   "source": [
    "train_data[0]"
   ]
  },
  {
   "cell_type": "code",
   "execution_count": 71,
   "metadata": {},
   "outputs": [
    {
     "ename": "TypeError",
     "evalue": "order must be str, not int",
     "output_type": "error",
     "traceback": [
      "\u001b[1;31m---------------------------------------------------------------------------\u001b[0m",
      "\u001b[1;31mTypeError\u001b[0m                                 Traceback (most recent call last)",
      "Cell \u001b[1;32mIn[71], line 1\u001b[0m\n\u001b[1;32m----> 1\u001b[0m np\u001b[38;5;241m.\u001b[39mrow_stack(\u001b[43mnp\u001b[49m\u001b[38;5;241;43m.\u001b[39;49m\u001b[43marray\u001b[49m\u001b[43m(\u001b[49m\u001b[43mtrain_data\u001b[49m\u001b[43m)\u001b[49m\u001b[38;5;241;43m.\u001b[39;49m\u001b[43mflatten\u001b[49m\u001b[43m(\u001b[49m\u001b[38;5;241;43m-\u001b[39;49m\u001b[38;5;241;43m1\u001b[39;49m\u001b[43m)\u001b[49m)\n",
      "\u001b[1;31mTypeError\u001b[0m: order must be str, not int"
     ]
    }
   ],
   "source": [
    "np.row_stack(np.array(train_data).flatten(-1))"
   ]
  },
  {
   "cell_type": "code",
   "execution_count": 80,
   "metadata": {},
   "outputs": [
    {
     "data": {
      "text/plain": [
       "numpy.ndarray"
      ]
     },
     "execution_count": 80,
     "metadata": {},
     "output_type": "execute_result"
    }
   ],
   "source": [
    "type(train_data)"
   ]
  },
  {
   "cell_type": "code",
   "execution_count": null,
   "metadata": {},
   "outputs": [],
   "source": []
  }
 ],
 "metadata": {
  "kernelspec": {
   "display_name": "venv",
   "language": "python",
   "name": "python3"
  },
  "language_info": {
   "codemirror_mode": {
    "name": "ipython",
    "version": 3
   },
   "file_extension": ".py",
   "mimetype": "text/x-python",
   "name": "python",
   "nbconvert_exporter": "python",
   "pygments_lexer": "ipython3",
   "version": "3.9.21"
  }
 },
 "nbformat": 4,
 "nbformat_minor": 2
}
