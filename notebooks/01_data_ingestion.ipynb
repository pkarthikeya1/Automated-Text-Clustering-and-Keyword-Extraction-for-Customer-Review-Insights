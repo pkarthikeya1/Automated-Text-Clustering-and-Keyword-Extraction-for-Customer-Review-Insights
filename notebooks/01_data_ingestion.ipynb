{
 "cells": [
  {
   "cell_type": "code",
   "execution_count": 1,
   "metadata": {},
   "outputs": [],
   "source": [
    "import os\n",
    "import sqlite3\n",
    "from dataclasses import dataclass\n",
    "import pandas as pd\n",
    "from sklearn.model_selection import train_test_split"
   ]
  },
  {
   "cell_type": "code",
   "execution_count": 2,
   "metadata": {},
   "outputs": [
    {
     "data": {
      "text/plain": [
       "'c:\\\\Users\\\\karthikeya\\\\New_Delhi_Reviews'"
      ]
     },
     "execution_count": 2,
     "metadata": {},
     "output_type": "execute_result"
    }
   ],
   "source": [
    "%pwd\n",
    "os.chdir('..')\n",
    "%pwd"
   ]
  },
  {
   "cell_type": "code",
   "execution_count": 3,
   "metadata": {},
   "outputs": [],
   "source": [
    "from src.db_paths import table_name, db_path, query\n",
    "from src.logger import logger"
   ]
  },
  {
   "cell_type": "code",
   "execution_count": 4,
   "metadata": {},
   "outputs": [],
   "source": [
    "@dataclass\n",
    "class DataBaseConfig:\n",
    "    database_path:str = db_path\n",
    "    table:str = table_name\n",
    "    query:str = query"
   ]
  },
  {
   "cell_type": "code",
   "execution_count": 5,
   "metadata": {},
   "outputs": [],
   "source": [
    "class DataBaseHandler:\n",
    "\n",
    "    def __init__(self):\n",
    "        self.DataBaseConn = DataBaseConfig()\n",
    "        pass\n",
    "    def DataFrameExraction(self):\n",
    "        try:\n",
    "            logger.info(\"Establising Connection With SQL Database\")\n",
    "            self.conn = sqlite3.connect(self.DataBaseConn.database_path)\n",
    "            self.cursor = self.conn.cursor()\n",
    "            logger.info(\"Successfully connected to the SQLite database.\")\n",
    "        except:\n",
    "            raise Exception\n",
    "        try:\n",
    "            logger.info(f\"Reading {self.DataBaseConn.table} table \")\n",
    "            df = pd.read_sql_query(sql=self.DataBaseConn.query, con=self.conn)\n",
    "            logger.info(f\"Successfully read the {self.DataBaseConn.table} as pandas dataframe\")\n",
    "            return df\n",
    "        except:\n",
    "            raise Exception"
   ]
  },
  {
   "cell_type": "code",
   "execution_count": 6,
   "metadata": {},
   "outputs": [
    {
     "name": "stdout",
     "output_type": "stream",
     "text": [
      "[2024-12-13 22:12:28,530, 882292963, INFO, Establising Connection With SQL Database ]\n",
      "[2024-12-13 22:12:28,532, 882292963, INFO, Successfully connected to the SQLite database. ]\n",
      "[2024-12-13 22:12:28,534, 882292963, INFO, Reading New_Delhi_Reviews table  ]\n",
      "[2024-12-13 22:12:28,883, 882292963, INFO, Successfully read the New_Delhi_Reviews as pandas dataframe ]\n"
     ]
    }
   ],
   "source": [
    "connection = DataBaseHandler()\n",
    "df = connection.DataFrameExraction()"
   ]
  },
  {
   "cell_type": "code",
   "execution_count": 11,
   "metadata": {},
   "outputs": [],
   "source": [
    "@dataclass\n",
    "class DataIngestionConfig:\n",
    "    raw_data_path  = os.path.join('artifacts', 'raw_data.csv')\n",
    "    train_data_path = os.path.join('artifacts', 'train_data.csv')\n",
    "    test_data_path = os.path.join('artifacts', 'test_data.csv')\n",
    "\n",
    "\n",
    "class DataIngestion:\n",
    "\n",
    "    def __init__(self):\n",
    "        self.data_config = DataIngestionConfig()\n",
    "        \n",
    "        pass\n",
    "    \n",
    "    def initate_data_ingestion(self):\n",
    "        logger.info(\"Initiating data ingestion\")\n",
    "\n",
    "        try:\n",
    "            db_handler = DataBaseHandler()\n",
    "            raw_data = db_handler.DataFrameExraction()\n",
    "            os.makedirs(\"artifacts\", exist_ok=True)\n",
    "            raw_data.to_csv(self.data_config.raw_data_path, header=True, index=False)\n",
    "            logger.info(f\"succesfully ingested the raw data as a csv file into {self.data_config.raw_data_path}\")\n",
    "            logger.info(\"Initiating train test split\")\n",
    "            train_data, test_data = train_test_split(raw_data, test_size=0.3, random_state=42)\n",
    "            train_data.to_csv(self.data_config.train_data_path, header=True, index=False)\n",
    "            test_data.to_csv(self.data_config.test_data_path, header=True, index=False)      \n",
    "            logger.info(f\"train and test data split successful and stored respectively as csv files at {self.data_config.train_data_path}, {self.data_config.test_data_path}\")     \n",
    "\n",
    "            return self.data_config.train_data_path, self.data_config.test_data_path\n",
    "        except:\n",
    "            raise Exception"
   ]
  },
  {
   "cell_type": "code",
   "execution_count": 12,
   "metadata": {},
   "outputs": [
    {
     "name": "stdout",
     "output_type": "stream",
     "text": [
      "[2024-12-13 22:13:18,097, 3806098344, INFO, Initiating data ingestion ]\n",
      "[2024-12-13 22:13:18,099, 882292963, INFO, Establising Connection With SQL Database ]\n",
      "[2024-12-13 22:13:18,101, 882292963, INFO, Successfully connected to the SQLite database. ]\n",
      "[2024-12-13 22:13:18,102, 882292963, INFO, Reading New_Delhi_Reviews table  ]\n",
      "[2024-12-13 22:13:18,439, 882292963, INFO, Successfully read the New_Delhi_Reviews as pandas dataframe ]\n",
      "[2024-12-13 22:13:20,028, 3806098344, INFO, succesfully ingested the raw data as a csv file into artifacts\\raw_data.csv ]\n",
      "[2024-12-13 22:13:20,029, 3806098344, INFO, Initiating train test split ]\n",
      "[2024-12-13 22:13:21,763, 3806098344, INFO, train and test data split successful and stored respectively as csv files at artifacts\\train_data.csv, artifacts\\test_data.csv ]\n"
     ]
    },
    {
     "data": {
      "text/plain": [
       "('artifacts\\\\train_data.csv', 'artifacts\\\\test_data.csv')"
      ]
     },
     "execution_count": 12,
     "metadata": {},
     "output_type": "execute_result"
    }
   ],
   "source": [
    "data_ingest = DataIngestion()\n",
    "data_ingest.initate_data_ingestion()"
   ]
  },
  {
   "cell_type": "code",
   "execution_count": null,
   "metadata": {},
   "outputs": [],
   "source": []
  }
 ],
 "metadata": {
  "kernelspec": {
   "display_name": "venv",
   "language": "python",
   "name": "python3"
  },
  "language_info": {
   "codemirror_mode": {
    "name": "ipython",
    "version": 3
   },
   "file_extension": ".py",
   "mimetype": "text/x-python",
   "name": "python",
   "nbconvert_exporter": "python",
   "pygments_lexer": "ipython3",
   "version": "3.9.21"
  }
 },
 "nbformat": 4,
 "nbformat_minor": 2
}
