{
 "cells": [
  {
   "cell_type": "code",
   "execution_count": 1,
   "metadata": {},
   "outputs": [
    {
     "data": {
      "text/plain": [
       "'c:\\\\Users\\\\karthikeya\\\\New_Delhi_Reviews\\\\notebooks'"
      ]
     },
     "execution_count": 1,
     "metadata": {},
     "output_type": "execute_result"
    }
   ],
   "source": [
    "import os\n",
    "%pwd"
   ]
  },
  {
   "cell_type": "code",
   "execution_count": 2,
   "metadata": {},
   "outputs": [
    {
     "data": {
      "text/plain": [
       "'c:\\\\Users\\\\karthikeya\\\\New_Delhi_Reviews'"
      ]
     },
     "execution_count": 2,
     "metadata": {},
     "output_type": "execute_result"
    }
   ],
   "source": [
    "os.chdir(\"..\")\n",
    "%pwd"
   ]
  },
  {
   "cell_type": "code",
   "execution_count": 3,
   "metadata": {},
   "outputs": [],
   "source": [
    "from src.components.data_ingestion import DataIngestion\n",
    "from src.components.data_transformation import DataTransformation"
   ]
  },
  {
   "cell_type": "code",
   "execution_count": 4,
   "metadata": {},
   "outputs": [
    {
     "name": "stdout",
     "output_type": "stream",
     "text": [
      "[2024-12-22 16:10:05,295, data_ingestion, INFO, Initiating data ingestion ]\n",
      "[2024-12-22 16:10:05,296, data_ingestion, INFO, Establising Connection With SQL Database ]\n",
      "[2024-12-22 16:10:05,298, data_ingestion, INFO, Successfully connected to the SQLite database. ]\n",
      "[2024-12-22 16:10:05,299, data_ingestion, INFO, Reading New_Delhi_Reviews table  ]\n",
      "[2024-12-22 16:10:05,683, data_ingestion, INFO, Successfully read the New_Delhi_Reviews as pandas dataframe ]\n",
      "[2024-12-22 16:10:07,430, data_ingestion, INFO, succesfully ingested the raw data as a csv file into artifacts\\raw_data.csv ]\n",
      "[2024-12-22 16:10:07,432, data_ingestion, INFO, Initiating train test split ]\n",
      "[2024-12-22 16:10:08,906, data_ingestion, INFO, train and test data split successful and stored respectively as csv files at artifacts\\train_data.csv, artifacts\\test_data.csv ]\n",
      "[2024-12-22 16:10:08,933, data_transformation, INFO, Initiating the DataTransformation ]\n",
      "[2024-12-22 16:10:08,935, data_transformation, INFO, Initiatig data transformation pipeline ]\n",
      "[2024-12-22 16:10:10,410, data_transformation, INFO, getting set of stopwords from NLTK from English language ]\n",
      "[2024-12-22 16:10:10,413, data_transformation, INFO, WordNetLemmatizer from NLTK library is instantiated ]\n",
      "[2024-12-22 16:10:10,414, data_transformation, INFO, Loading Gensim Word2Vec model for embedding generation ]\n",
      "[2024-12-22 16:10:10,415, keyedvectors, INFO, loading projection weights from ft_reviews_vectors.bin ]\n",
      "[2024-12-22 16:10:11,709, utils, INFO, KeyedVectors lifecycle event {'msg': 'loaded (106574, 25) matrix of type float32 from ft_reviews_vectors.bin', 'binary': True, 'encoding': 'utf8', 'datetime': '2024-12-22T16:10:11.708574', 'gensim': '4.3.3', 'python': '3.9.21 | packaged by conda-forge | (main, Dec  5 2024, 13:41:22) [MSC v.1929 64 bit (AMD64)]', 'platform': 'Windows-10-10.0.19045-SP0', 'event': 'load_word2vec_format'} ]\n",
      "[2024-12-22 16:10:11,710, data_transformation, INFO, Numerical and text pipelines created ]\n",
      "[2024-12-22 16:10:11,711, data_transformation, INFO, Fitting and transforming training data ]\n",
      "[2024-12-22 16:10:11,714, data_transformation, INFO, getting set of stopwords from NLTK from English language ]\n",
      "[2024-12-22 16:10:11,719, data_transformation, INFO, WordNetLemmatizer from NLTK library is instantiated ]\n",
      "[2024-12-22 16:10:11,720, data_transformation, INFO, Loading Gensim Word2Vec model for embedding generation ]\n",
      "[2024-12-22 16:10:11,721, keyedvectors, INFO, loading projection weights from ft_reviews_vectors.bin ]\n",
      "[2024-12-22 16:10:12,750, utils, INFO, KeyedVectors lifecycle event {'msg': 'loaded (106574, 25) matrix of type float32 from ft_reviews_vectors.bin', 'binary': True, 'encoding': 'utf8', 'datetime': '2024-12-22T16:10:12.750829', 'gensim': '4.3.3', 'python': '3.9.21 | packaged by conda-forge | (main, Dec  5 2024, 13:41:22) [MSC v.1929 64 bit (AMD64)]', 'platform': 'Windows-10-10.0.19045-SP0', 'event': 'load_word2vec_format'} ]\n",
      "[2024-12-22 16:10:12,768, data_transformation, INFO, Transforming all the letters into lowercase ]\n",
      "[2024-12-22 16:10:12,873, data_transformation, INFO, Transforming all letters into lowercase is successful ]\n",
      "[2024-12-22 16:10:12,874, data_transformation, INFO, Splitting the sentences into words (Tokenization) ]\n",
      "[2024-12-22 16:10:13,855, data_transformation, INFO, Splitting the sentences into words is successful (Tokenization) ]\n",
      "[2024-12-22 16:10:13,857, data_transformation, INFO, Removing punctuations from text ]\n",
      "[2024-12-22 16:10:21,279, data_transformation, INFO, Removing punctuations from text successful ]\n",
      "[2024-12-22 16:10:21,280, data_transformation, INFO, Removing the stopwords from the tokenized words ]\n",
      "[2024-12-22 16:10:22,636, data_transformation, INFO, Removing the stopwords from the tokenized words is successful ]\n",
      "[2024-12-22 16:10:22,640, data_transformation, INFO, Initiating the lemmatization of the remaining words after stopword removal ]\n",
      "[2024-12-22 16:10:49,026, data_transformation, INFO, Lemmatization successful ]\n",
      "[2024-12-22 16:10:49,029, data_transformation, INFO, Generating embeddings for the text data ]\n",
      "[2024-12-22 16:11:21,909, data_transformation, INFO, Successfully generated embeddings ]\n",
      "[2024-12-22 16:11:21,922, data_transformation, INFO, Transforming test data ]\n",
      "[2024-12-22 16:11:22,000, data_transformation, INFO, Transforming all the letters into lowercase ]\n",
      "[2024-12-22 16:11:22,045, data_transformation, INFO, Transforming all letters into lowercase is successful ]\n",
      "[2024-12-22 16:11:22,047, data_transformation, INFO, Splitting the sentences into words (Tokenization) ]\n",
      "[2024-12-22 16:11:22,495, data_transformation, INFO, Splitting the sentences into words is successful (Tokenization) ]\n",
      "[2024-12-22 16:11:22,498, data_transformation, INFO, Removing punctuations from text ]\n",
      "[2024-12-22 16:11:25,779, data_transformation, INFO, Removing punctuations from text successful ]\n",
      "[2024-12-22 16:11:25,781, data_transformation, INFO, Removing the stopwords from the tokenized words ]\n",
      "[2024-12-22 16:11:26,368, data_transformation, INFO, Removing the stopwords from the tokenized words is successful ]\n",
      "[2024-12-22 16:11:26,373, data_transformation, INFO, Initiating the lemmatization of the remaining words after stopword removal ]\n",
      "[2024-12-22 16:11:37,835, data_transformation, INFO, Lemmatization successful ]\n",
      "[2024-12-22 16:11:37,934, data_transformation, INFO, Generating embeddings for the text data ]\n",
      "[2024-12-22 16:11:51,763, data_transformation, INFO, Successfully generated embeddings ]\n",
      "[2024-12-22 16:11:51,877, data_transformation, INFO, Transforming test data ]\n",
      "[2024-12-22 16:11:55,862, data_transformation, INFO, Saved fitted preprocessor to artifacts\\preprocessor.joblib ]\n",
      "[2024-12-22 16:11:55,864, data_transformation, INFO, saving transformed train data and test data at artifacts\\transformed_train_data.csv and artifacts\\transformed_test_data.csv respectively ]\n",
      "[2024-12-22 16:12:00,650, data_transformation, INFO, Returning the input train feature as an array and test feature as array respectively ]\n"
     ]
    }
   ],
   "source": [
    "data_ingest = DataIngestion()\n",
    "tr_D, ts_D = data_ingest.initate_data_ingestion()\n",
    "data_trans = DataTransformation()\n",
    "train_data, test_data = data_trans.initiate_data_transformation(tr_D, ts_D)"
   ]
  },
  {
   "cell_type": "code",
   "execution_count": null,
   "metadata": {},
   "outputs": [],
   "source": []
  },
  {
   "cell_type": "code",
   "execution_count": 6,
   "metadata": {},
   "outputs": [
    {
     "name": "stderr",
     "output_type": "stream",
     "text": [
      "c:\\Users\\karthikeya\\New_Delhi_Reviews\\venv\\lib\\site-packages\\tqdm\\auto.py:21: TqdmWarning: IProgress not found. Please update jupyter and ipywidgets. See https://ipywidgets.readthedocs.io/en/stable/user_install.html\n",
      "  from .autonotebook import tqdm as notebook_tqdm\n",
      "c:\\Users\\karthikeya\\New_Delhi_Reviews\\venv\\lib\\site-packages\\sklearn\\utils\\deprecation.py:151: FutureWarning: 'force_all_finite' was renamed to 'ensure_all_finite' in 1.6 and will be removed in 1.8.\n",
      "  warnings.warn(\n",
      "c:\\Users\\karthikeya\\New_Delhi_Reviews\\venv\\lib\\site-packages\\umap\\umap_.py:1952: UserWarning: n_jobs value 1 overridden to 1 by setting random_state. Use no seed for parallelism.\n",
      "  warn(\n"
     ]
    }
   ],
   "source": [
    "import umap\n",
    "from sklearn.cluster import DBSCAN\n",
    "\n",
    "reducer_cosine = umap.UMAP(n_neighbors = 100, min_dist = 0.5, metric='cosine', random_state=42)\n",
    "low_dim_embeddings_cosine = reducer_cosine.fit_transform(train_data)"
   ]
  },
  {
   "cell_type": "code",
   "execution_count": 7,
   "metadata": {},
   "outputs": [
    {
     "data": {
      "image/png": "[encoded data removed]",
      "text/plain": [
       "<Figure size 640x480 with 1 Axes>"
      ]
     },
     "metadata": {},
     "output_type": "display_data"
    }
   ],
   "source": [
    "import matplotlib.pyplot as plt\n",
    "import seaborn as sns\n",
    "\n",
    "plt.scatter(\n",
    "    low_dim_embeddings_cosine[:, 0],\n",
    "    low_dim_embeddings_cosine[:, 1],\n",
    "   )\n",
    "plt.gca().set_aspect('equal', 'datalim')\n",
    "plt.title('UMAP projection of the reviews_embedding_cosine', fontsize=24);"
   ]
  },
  {
   "cell_type": "code",
   "execution_count": 40,
   "metadata": {},
   "outputs": [
    {
     "data": {
      "image/png": "[encoded data removed]",
      "text/plain": [
       "<Figure size 800x500 with 2 Axes>"
      ]
     },
     "metadata": {},
     "output_type": "display_data"
    }
   ],
   "source": [
    "from sklearn.cluster import DBSCAN\n",
    "\n",
    "dbscan = DBSCAN(eps=0.6, min_samples=100)  # `eps` is the neighborhood size, `min_samples` is the minimum points to form a cluster\n",
    "dbscan_labels = dbscan.fit_predict(low_dim_embeddings_cosine)\n",
    "\n",
    "# 3. Visualize the results\n",
    "plt.figure(figsize=(8, 5))\n",
    "\n",
    "# Plot points with different colors based on their cluster label\n",
    "plt.scatter(low_dim_embeddings_cosine[:, 0], low_dim_embeddings_cosine[:, 1], c=dbscan_labels, cmap='viridis', marker='o')\n",
    "plt.title('DBSCAN Clustering')\n",
    "plt.xlabel('Feature 1')\n",
    "plt.ylabel('Feature 2')\n",
    "plt.colorbar(label='Cluster Label')\n",
    "plt.grid(True)\n",
    "plt.show()"
   ]
  },
  {
   "cell_type": "code",
   "execution_count": 45,
   "metadata": {},
   "outputs": [
    {
     "name": "stdout",
     "output_type": "stream",
     "text": [
      "Silhouette Score: 0.7370256781578064\n"
     ]
    }
   ],
   "source": [
    "sil_score = silhouette_score(low_dim_embeddings_cosine, dbscan_labels)\n",
    "\n",
    "print(f\"Silhouette Score: {sil_score}\")\n"
   ]
  },
  {
   "cell_type": "code",
   "execution_count": 53,
   "metadata": {},
   "outputs": [
    {
     "data": {
      "text/plain": [
       "5"
      ]
     },
     "execution_count": 53,
     "metadata": {},
     "output_type": "execute_result"
    }
   ],
   "source": [
    "import pandas as pd\n",
    "pd.Series(dbscan_labels).nunique()"
   ]
  },
  {
   "cell_type": "code",
   "execution_count": 5,
   "metadata": {},
   "outputs": [],
   "source": [
    "import warnings\n",
    "warnings.filterwarnings(\"ignore\")\n",
    "\n",
    "from dataclasses import dataclass\n",
    "\n",
    "import pandas as pd\n",
    "import numpy as np\n",
    "import joblib as jl\n",
    "\n",
    "from sklearn.base import TransformerMixin, BaseEstimator\n",
    "from sklearn.cluster import DBSCAN\n",
    "from sklearn.pipeline import Pipeline\n",
    "import umap\n",
    "\n",
    "from src.logger import logger\n",
    "from src.components.data_transformation import DataTransformationConfig\n"
   ]
  },
  {
   "cell_type": "code",
   "execution_count": 6,
   "metadata": {},
   "outputs": [],
   "source": [
    "class Reduce_Dimesionality(TransformerMixin, BaseEstimator):\n",
    "\n",
    "    def __init__ (self):\n",
    "\n",
    "        logger.info(f\"Initiating the UMAP model for dimensionality reduction\")\n",
    "        logger.info(f\"The n_neighbours =100, min_dist =0.5, metric=cosine\")\n",
    "\n",
    "        try:\n",
    "            self.reducer = umap.UMAP(n_neighbors = 100, min_dist = 0.5, metric='cosine', n_jobs=-1, random_state=42, )\n",
    "            pass\n",
    "        except Exception as e:\n",
    "            logger.info(f\"Error initializing the UMAP: {e}\")\n",
    "            raise e\n",
    "        \n",
    "\n",
    "    def fit(self, X, y=None):\n",
    "\n",
    "        try:\n",
    "            logger.info(f\"Fitting the UMAP to the given data\")\n",
    "            X_ = self.reducer.fit(X)\n",
    "            return X_\n",
    "        \n",
    "        except Exception as e:\n",
    "            logger.info(f\"Error fitting the data with UMP : {e}\")\n",
    "            raise e\n",
    "    \n",
    "\n",
    "\n",
    "    def transform(self, X, y=None):\n",
    "        try:\n",
    "            logger.info(f\"Transforming the given data using fitted UMAP model\")\n",
    "            X_ = self.reducer.transform(X)\n",
    "            logger.info(f\"Output shape after UMAP transform: {X_.shape}\")\n",
    "            return X_  \n",
    "        except Exception as e:\n",
    "            logger.error(f\"Error transforming the data using the UMAP model: {e}\")\n",
    "            raise e\n"
   ]
  },
  {
   "cell_type": "code",
   "execution_count": 7,
   "metadata": {},
   "outputs": [],
   "source": [
    "class ClusterData(TransformerMixin, BaseEstimator):\n",
    "    def __init__(self):\n",
    "        logger.info(f\"Initializing the DBSCAN clustering model\")\n",
    "        try:\n",
    "            self.dbscan = DBSCAN(eps=0.6, min_samples=100, n_jobs=-1)\n",
    "            pass\n",
    "        except Exception as e:\n",
    "            logger.info(f\"Error initializing the DBSCAN clustering model: {e}\")\n",
    "            raise e\n",
    "\n",
    "    def fit(self, X, y=None):\n",
    "        try:\n",
    "            logger.info(f\"Fitting the data to the DBSCAN cluster model\")\n",
    "            self.dbscan.fit(X)\n",
    "            return self\n",
    "        except Exception as e:\n",
    "            logger.info(f\"Error in fitting the data to the DBSCAN cluster model: {e}\")\n",
    "            raise e\n",
    "\n",
    "    def transform(self, X, y=None):\n",
    "        try:\n",
    "            logger.info(f\"Transforming the data using the DBSCAN clustering model\")\n",
    "            if X.ndim == 1:\n",
    "                X = X.reshape(-1, 1)  # Ensure input is 2D\n",
    "            labels = self.dbscan.fit_predict(X)\n",
    "            logger.info(f\"Successfully assigned clusters using DBSCAN\")\n",
    "            return labels.reshape(-1, 1)  # Ensure output is a 2D array\n",
    "        except Exception as e:\n",
    "            logger.info(f\"Error in transforming the data with the DBSCAN model: {e}\")\n",
    "            raise e\n",
    "\n"
   ]
  },
  {
   "cell_type": "code",
   "execution_count": 8,
   "metadata": {},
   "outputs": [],
   "source": [
    "@dataclass\n",
    "class ModellingConfig:\n",
    "    model_object : str = os.path.join('artifacts','cluster_model.joblib')"
   ]
  },
  {
   "cell_type": "code",
   "execution_count": 11,
   "metadata": {},
   "outputs": [],
   "source": [
    "class Cluster_Modelling:\n",
    "\n",
    "    def __init__(self):\n",
    "        self.data_trans_config = DataTransformationConfig()\n",
    "        self.model_config = ModellingConfig()\n",
    "        pass\n",
    "\n",
    "    def get_cluster_model(self):\n",
    "\n",
    "        clustering_pipeline = Pipeline(\n",
    "            [\n",
    "            ('Dimesionality Reduction UMAP', Reduce_Dimesionality()),\n",
    "            ('Cluster Data', ClusterData())\n",
    "\n",
    "            ]\n",
    "        )\n",
    "        return clustering_pipeline\n",
    "    \n",
    "    def initiate_clustering(self):\n",
    "        try:\n",
    "            logger.info(f\"Initialized clustering model\")\n",
    "            cluster = self.get_cluster_model()\n",
    "            logger.info(f\"Fitting the training data to the clustering model\")\n",
    "            tr_data = pd.read_csv(self.data_trans_config.transformed_train_file)\n",
    "            train_cluster_labels = cluster.fit_transform(tr_data.values)\n",
    "            logger.info(f\"saving fitted cluster model at {self.model_config.model_object}\")\n",
    "            jl.dump(cluster, self.model_config.model_object)\n",
    "            logger.info(f\"Transforming the test data to\")\n",
    "            ts_data = pd.read_csv(self.data_trans_config.transformed_test_file)\n",
    "            test_cluster_labels = cluster.transform(ts_data.values)\n",
    "            logger.info(f\" Returning cluster labes of train data and test resectively\")\n",
    "            return train_cluster_labels, test_cluster_labels\n",
    "        except Exception as e:\n",
    "            logger.info(f\" Error in initiating the clustering pipeline : {e}\")\n",
    "            raise e"
   ]
  },
  {
   "cell_type": "code",
   "execution_count": 12,
   "metadata": {},
   "outputs": [
    {
     "name": "stdout",
     "output_type": "stream",
     "text": [
      "[2024-12-22 16:14:33,421, 2366838217, INFO, Initialized clustering model ]\n",
      "[2024-12-22 16:14:33,423, 705939419, INFO, Initiating the UMAP model for dimensionality reduction ]\n",
      "[2024-12-22 16:14:33,424, 705939419, INFO, The n_neighbours =100, min_dist =0.5, metric=cosine ]\n",
      "[2024-12-22 16:14:33,425, 3653109047, INFO, Initializing the DBSCAN clustering model ]\n",
      "[2024-12-22 16:14:33,428, 2366838217, INFO, Fitting the training data to the clustering model ]\n",
      "[2024-12-22 16:14:33,873, 705939419, INFO, Fitting the UMAP to the given data ]\n",
      "[2024-12-22 16:20:17,764, 3653109047, INFO, Fitting the data to the DBSCAN cluster model ]\n",
      "[2024-12-22 16:20:20,629, 3653109047, INFO, Transforming the data using the DBSCAN clustering model ]\n",
      "[2024-12-22 16:20:23,612, 3653109047, INFO, Successfully assigned clusters using DBSCAN ]\n",
      "[2024-12-22 16:20:23,613, 2366838217, INFO, saving fitted cluster model at artifacts\\cluster_model.joblib ]\n",
      "[2024-12-22 16:20:57,848, 2366838217, INFO, Transforming the test data to ]\n",
      "[2024-12-22 16:20:58,066, 705939419, INFO, Transforming the given data using fitted UMAP model ]\n",
      "[2024-12-22 16:21:58,987, 705939419, INFO, Output shape after UMAP transform: (44275, 2) ]\n",
      "[2024-12-22 16:21:58,988, 3653109047, INFO, Transforming the data using the DBSCAN clustering model ]\n",
      "[2024-12-22 16:21:59,654, 3653109047, INFO, Successfully assigned clusters using DBSCAN ]\n",
      "[2024-12-22 16:21:59,655, 2366838217, INFO,  Returning cluster labes of train data and test resectively ]\n"
     ]
    }
   ],
   "source": [
    "cluster = Cluster_Modelling()\n",
    "train_cluster_lables, test_cluster_labels = cluster.initiate_clustering()"
   ]
  },
  {
   "cell_type": "code",
   "execution_count": 13,
   "metadata": {},
   "outputs": [
    {
     "data": {
      "text/plain": [
       "array([[0],\n",
       "       [1],\n",
       "       [1],\n",
       "       ...,\n",
       "       [2],\n",
       "       [2],\n",
       "       [1]], dtype=int64)"
      ]
     },
     "execution_count": 13,
     "metadata": {},
     "output_type": "execute_result"
    }
   ],
   "source": [
    "train_cluster_lables"
   ]
  },
  {
   "cell_type": "code",
   "execution_count": 14,
   "metadata": {},
   "outputs": [
    {
     "data": {
      "text/plain": [
       "array([[0],\n",
       "       [1],\n",
       "       [2],\n",
       "       ...,\n",
       "       [4],\n",
       "       [0],\n",
       "       [3]], dtype=int64)"
      ]
     },
     "execution_count": 14,
     "metadata": {},
     "output_type": "execute_result"
    }
   ],
   "source": [
    "test_cluster_labels"
   ]
  },
  {
   "cell_type": "code",
   "execution_count": null,
   "metadata": {},
   "outputs": [],
   "source": []
  }
 ],
 "metadata": {
  "kernelspec": {
   "display_name": "venv",
   "language": "python",
   "name": "python3"
  },
  "language_info": {
   "codemirror_mode": {
    "name": "ipython",
    "version": 3
   },
   "file_extension": ".py",
   "mimetype": "text/x-python",
   "name": "python",
   "nbconvert_exporter": "python",
   "pygments_lexer": "ipython3",
   "version": "3.9.21"
  }
 },
 "nbformat": 4,
 "nbformat_minor": 2
}
